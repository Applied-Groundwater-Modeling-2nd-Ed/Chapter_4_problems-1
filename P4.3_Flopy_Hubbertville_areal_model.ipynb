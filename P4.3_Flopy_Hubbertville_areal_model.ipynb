{
 "metadata": {
  "name": "",
  "signature": "sha256:5ebf7a8c6bee213d818a6c65d32a80ad1d5756d85cdb6f94a38b795b583f199b"
 },
 "nbformat": 3,
 "nbformat_minor": 0,
 "worksheets": [
  {
   "cells": [
    {
     "cell_type": "markdown",
     "metadata": {},
     "source": [
      "<img src=\"flopylogo.png\" style=\"float: left\">\n",
      "\n",
      "# Problem P4.3 Hubbertville Areal Model\n",
      "\n",
      "In Problem P4.3 from page 172-173 in Anderson, Woessner and Hunt (2015), we are asked to construct an areal 2D model to assess impacts of pumping.  The town of Hubbertville is planning to expand its water supply by constructing a pumping well in an unconfined gravel aquifer (Fig. P4.3). The well is designed to pump constantly at a rate of 20,000 m3/day. Well construction was halted by the State Fish and Game Service who manage the Green Swamp Conservation area. The agency claimed that pumping would \u201csignificantly reduce\u201d groundwater discharge to the swamp and damage waterfowl habitat. The town claimed the fully penetrating river boundary to the north and the groundwater divide located near the center of the valley would prevent any change in flow to the swamp.\n",
      "\n",
      "Construct a 2D areal steady-state model of the aquifer between the river and swamp for conditions prior to pumping using the information in Fig. P4.3. Represent the river and swamp boundaries as constant head boundaries with head set at 1000 m. The side boundaries are no-flow boundaries. Justify this assignment of boundary conditions. Use a constant nodal spacing of 500 m. Run the model and produce a contour map of heads. Draw the water-table profile in a north-south cross-section and label the simulated groundwater divide between the river and the swamp. Compute the discharge to Green Swamp.\n",
      "\n",
      "In this notebook, we will work through the problem using MODFLOW and the Python tool set Flopy. Notice how much code is reused from P4.1 because the variable names (all CAPS) remained the same.\n",
      "\n",
      "<img src=\"P4.3_figure.tiff\" style=\"float: center\">"
     ]
    },
    {
     "cell_type": "markdown",
     "metadata": {},
     "source": [
      "##Flopy Tutorial 1: Creating the Model\n",
      "In this example, we will create a simple groundwater flow model by following the tutorial included on the Flopy website.  We will make a few small changes  so that the tutorial works with our file structure.\n",
      "\n",
      "Visit the tutorial website [here](http://modflowpy.github.io/flopydoc/tutorial1.html \"tutorial\")."
     ]
    },
    {
     "cell_type": "markdown",
     "metadata": {},
     "source": [
      "###Setup the Notebook Environment and Import Flopy\n",
      "Load a few standard libraries, and then load flopy."
     ]
    },
    {
     "cell_type": "code",
     "collapsed": false,
     "input": [
      "%matplotlib inline\n",
      "import sys\n",
      "import os\n",
      "import shutil\n",
      "import numpy as np\n",
      "from subprocess import check_output\n",
      "\n",
      "# Import class paths\n",
      "from paths import *\n",
      "\n",
      "# Import flopy\n",
      "import flopy"
     ],
     "language": "python",
     "metadata": {},
     "outputs": [
      {
       "output_type": "stream",
       "stream": "stdout",
       "text": [
        "path verified:  /Users/rjhunt1/Desktop/USGS_Network/Python_class_2015/GW1774-master/ClassMaterials\n",
        "path verified:  /Users/rjhunt1/Desktop/USGS_Network/Python_class_2015/GW1774-master/ClassMaterials/Exercises/Scripts\n",
        "path verified:  /Users/rjhunt1/Desktop/USGS_Network/Python_class_2015/GW1774-master/ClassMaterials/bin/mac\n",
        "path verified:  /Users/rjhunt1/Desktop/USGS_Network/Python_class_2015/GW1774-master/ClassMaterials/Exercises/Code\n",
        "path verified:  /Users/rjhunt1/Desktop/USGS_Network/Python_class_2015/GW1774-master/ClassMaterials/Exercises/Data\n",
        "path verified:  /Users/rjhunt1/Desktop/USGS_Network/Python_class_2015/GW1774-master/ClassMaterials/Exercises/Notebooks\n",
        "path verified:  /Users/rjhunt1/Desktop/USGS_Network/Python_class_2015/GW1774-master/ClassMaterials/Exercises/Data/FreybergModel\n",
        "path verified:  /Users/rjhunt1/Desktop/USGS_Network/Python_class_2015/GW1774-master/ClassMaterials/Exercises/Code/mfgrid\n",
        "path verified:  /Users/rjhunt1/Desktop/USGS_Network/Python_class_2015/GW1774-master/ClassMaterials/Exercises/Code/shapefile\n",
        "Adding to sys.path:  /Users/rjhunt1/Desktop/USGS_Network/Python_class_2015/GW1774-master/ClassMaterials/Exercises/Code\n",
        "Adding to sys.path:  /Users/rjhunt1/Desktop/USGS_Network/Python_class_2015/GW1774-master/ClassMaterials/Exercises/Scripts\n",
        "Adding to sys.path:  /Users/rjhunt1/Desktop/USGS_Network/Python_class_2015/GW1774-master/ClassMaterials/Exercises/Code/mfgrid\n",
        "Adding to sys.path:  /Users/rjhunt1/Desktop/USGS_Network/Python_class_2015/GW1774-master/ClassMaterials/Exercises/Code/shapefile\n"
       ]
      }
     ],
     "prompt_number": 1
    },
    {
     "cell_type": "markdown",
     "metadata": {},
     "source": [
      "###Setup a New Directory and Change Paths\n",
      "For this tutorial, we will work in the 21_FlopyIntro directory, which is located up one folder and over to the Data folder.  We can use some fancy Python tools to help us manage the directory creation.  Note that if you encounter path problems with this workbook, you can stop and then restart the kernel and the paths will be reset."
     ]
    },
    {
     "cell_type": "code",
     "collapsed": false,
     "input": [
      "# Set the name of the path to the model working directory\n",
      "dirname = \"P4-3_Hubbertville\"\n",
      "modelpath = os.path.join(datapath, dirname)\n",
      "print 'Name of model path: ', modelpath\n",
      "\n",
      "# Now let's check if this directory exists.  If not, then we will create it.\n",
      "if os.path.exists(modelpath):\n",
      "    print 'Model working directory already exists.'\n",
      "else:\n",
      "    print 'Creating model working directory.'\n",
      "    os.mkdir(modelpath)"
     ],
     "language": "python",
     "metadata": {},
     "outputs": [
      {
       "output_type": "stream",
       "stream": "stdout",
       "text": [
        "Name of model path:  /Users/rjhunt1/Desktop/USGS_Network/Python_class_2015/GW1774-master/ClassMaterials/Exercises/Data/P4-3_Hubbertville\n",
        "Model working directory already exists.\n"
       ]
      }
     ],
     "prompt_number": 2
    },
    {
     "cell_type": "markdown",
     "metadata": {},
     "source": [
      "###Define the Model Extent, Grid Resolution, and Characteristics\n",
      "It is normally good practice to group things that you might want to change into a single code block.  This makes it easier to make changes and rerun the code."
     ]
    },
    {
     "cell_type": "code",
     "collapsed": false,
     "input": [
      "# model domain and grid definition\n",
      "# for clarity, user entered variables are all caps; python syntax are lower case or mixed case\n",
      "# In a contrast to P4.1 and P4.2, this is an areal 2D model\n",
      "LX = 4500.\n",
      "LY = 11000.   # note that there is an added 500m on the top and bottom to represent the boundary conditions,that leaves an aqufier lenght of 10000 m  \n",
      "ZTOP = 1030.  # the system is unconfined so set the top above land surface so that the water table never > layer top\n",
      "ZBOT = 980.\n",
      "NLAY = 1\n",
      "NROW = 22\n",
      "NCOL = 9\n",
      "DELR = LX / NCOL  # recall that MODFLOW convention is DELR is along a row, thus has items = NCOL; see page XXX in AW&H (2015)\n",
      "DELC = LY / NROW  # recall that MODFLOW convention is DELC is along a column, thus has items = NROW; see page XXX in AW&H (2015)\n",
      "DELV = (ZTOP - ZBOT) / NLAY\n",
      "BOTM = np.linspace(ZTOP, ZBOT, NLAY + 1)\n",
      "HK = 50.\n",
      "VKA = 1.\n",
      "RCH = 0.001\n",
      "WELLQ = -20000.   #recall MODFLOW convention, negative means pumped out of the model domain (=aquifer)\n",
      "print \"DELR =\", DELR, \"  DELC =\", DELC, '  DELV =', DELV\n",
      "print \"BOTM =\", BOTM\n",
      "print \"Recharge =\", RCH \n",
      "print \"Pumping well rate =\", WELLQ\n"
     ],
     "language": "python",
     "metadata": {},
     "outputs": [
      {
       "output_type": "stream",
       "stream": "stdout",
       "text": [
        "DELR = 500.0   DELC = 500.0   DELV = 50.0\n",
        "BOTM = [ 1030.   980.]\n",
        "Recharge = 0.001\n",
        "Pumping well rate = -20000.0\n"
       ]
      }
     ],
     "prompt_number": 3
    },
    {
     "cell_type": "markdown",
     "metadata": {},
     "source": [
      "###Create the MODFLOW Model Object\n",
      "Create a flopy MODFLOW object: [flopy.modflow.Modflow](http://modflowpy.github.io/flopydoc/mf.html)."
     ]
    },
    {
     "cell_type": "code",
     "collapsed": false,
     "input": [
      "# Assign name and create modflow model object\n",
      "modelname = 'P4-3'\n",
      "exe_name = os.path.join(binpath, 'mf2005')\n",
      "print 'Model executable: ', exe_name\n",
      "MF = flopy.modflow.Modflow(modelname, exe_name=exe_name, model_ws=modelpath)"
     ],
     "language": "python",
     "metadata": {},
     "outputs": [
      {
       "output_type": "stream",
       "stream": "stdout",
       "text": [
        "Model executable:  /Users/rjhunt1/Desktop/USGS_Network/Python_class_2015/GW1774-master/ClassMaterials/bin/mac/mf2005\n"
       ]
      }
     ],
     "prompt_number": 4
    },
    {
     "cell_type": "markdown",
     "metadata": {},
     "source": [
      "###Discretization Package\n",
      "Create a flopy discretization package object: [flopy.modflow.ModflowDis](http://modflowpy.github.io/flopydoc/mfdis.html)."
     ]
    },
    {
     "cell_type": "code",
     "collapsed": false,
     "input": [
      "# Create the discretization object\n",
      "TOP = ZTOP * np.ones((NROW, NCOL),dtype=np.float)"
     ],
     "language": "python",
     "metadata": {},
     "outputs": [],
     "prompt_number": 5
    },
    {
     "cell_type": "code",
     "collapsed": false,
     "input": [
      "DIS_PACKAGE = flopy.modflow.ModflowDis(MF, NLAY, NROW, NCOL, delr=DELR, delc=DELC,\n",
      "                               top=TOP, botm=BOTM[1:], laycbd=0)\n",
      "# print DIS_PACKAGE  #uncomment this on far left to see information about the flopy object"
     ],
     "language": "python",
     "metadata": {},
     "outputs": [],
     "prompt_number": 6
    },
    {
     "cell_type": "markdown",
     "metadata": {},
     "source": [
      "###Basic Package\n",
      "Create a flopy basic package object: [flopy.modflow.ModflowBas](http://modflowpy.github.io/flopydoc/mfbas.html)."
     ]
    },
    {
     "cell_type": "code",
     "collapsed": false,
     "input": [
      "# Variables for the BAS package\n",
      "IBOUND = np.ones((NLAY, NROW, NCOL), dtype=np.int32)  # all nodes are active (IBOUND = 1)\n",
      "\n",
      "# make the top of the profile specified head by setting the IBOUND = -1\n",
      "IBOUND[:, 0, :] = -1  #don't forget arrays are zero-based!\n",
      "IBOUND[:, -1, :] = -1  #-1 is Python for last in array\n",
      "print IBOUND"
     ],
     "language": "python",
     "metadata": {},
     "outputs": [
      {
       "output_type": "stream",
       "stream": "stdout",
       "text": [
        "[[[-1 -1 -1 -1 -1 -1 -1 -1 -1]\n",
        "  [ 1  1  1  1  1  1  1  1  1]\n",
        "  [ 1  1  1  1  1  1  1  1  1]\n",
        "  [ 1  1  1  1  1  1  1  1  1]\n",
        "  [ 1  1  1  1  1  1  1  1  1]\n",
        "  [ 1  1  1  1  1  1  1  1  1]\n",
        "  [ 1  1  1  1  1  1  1  1  1]\n",
        "  [ 1  1  1  1  1  1  1  1  1]\n",
        "  [ 1  1  1  1  1  1  1  1  1]\n",
        "  [ 1  1  1  1  1  1  1  1  1]\n",
        "  [ 1  1  1  1  1  1  1  1  1]\n",
        "  [ 1  1  1  1  1  1  1  1  1]\n",
        "  [ 1  1  1  1  1  1  1  1  1]\n",
        "  [ 1  1  1  1  1  1  1  1  1]\n",
        "  [ 1  1  1  1  1  1  1  1  1]\n",
        "  [ 1  1  1  1  1  1  1  1  1]\n",
        "  [ 1  1  1  1  1  1  1  1  1]\n",
        "  [ 1  1  1  1  1  1  1  1  1]\n",
        "  [ 1  1  1  1  1  1  1  1  1]\n",
        "  [ 1  1  1  1  1  1  1  1  1]\n",
        "  [ 1  1  1  1  1  1  1  1  1]\n",
        "  [-1 -1 -1 -1 -1 -1 -1 -1 -1]]]\n"
       ]
      }
     ],
     "prompt_number": 7
    },
    {
     "cell_type": "code",
     "collapsed": false,
     "input": [
      "STRT = 1010 * np.ones((NLAY, NROW, NCOL), dtype=np.float32)  # set starting head to 1010 m through out model domain\n",
      "STRT[:, 0, :] = 1000.       # river stage for setting constant head\n",
      "STRT[:, -1, :] = 1000.     # wetland stage for setting constant head\n",
      "print STRT"
     ],
     "language": "python",
     "metadata": {},
     "outputs": [
      {
       "output_type": "stream",
       "stream": "stdout",
       "text": [
        "[[[ 1000.  1000.  1000.  1000.  1000.  1000.  1000.  1000.  1000.]\n",
        "  [ 1010.  1010.  1010.  1010.  1010.  1010.  1010.  1010.  1010.]\n",
        "  [ 1010.  1010.  1010.  1010.  1010.  1010.  1010.  1010.  1010.]\n",
        "  [ 1010.  1010.  1010.  1010.  1010.  1010.  1010.  1010.  1010.]\n",
        "  [ 1010.  1010.  1010.  1010.  1010.  1010.  1010.  1010.  1010.]\n",
        "  [ 1010.  1010.  1010.  1010.  1010.  1010.  1010.  1010.  1010.]\n",
        "  [ 1010.  1010.  1010.  1010.  1010.  1010.  1010.  1010.  1010.]\n",
        "  [ 1010.  1010.  1010.  1010.  1010.  1010.  1010.  1010.  1010.]\n",
        "  [ 1010.  1010.  1010.  1010.  1010.  1010.  1010.  1010.  1010.]\n",
        "  [ 1010.  1010.  1010.  1010.  1010.  1010.  1010.  1010.  1010.]\n",
        "  [ 1010.  1010.  1010.  1010.  1010.  1010.  1010.  1010.  1010.]\n",
        "  [ 1010.  1010.  1010.  1010.  1010.  1010.  1010.  1010.  1010.]\n",
        "  [ 1010.  1010.  1010.  1010.  1010.  1010.  1010.  1010.  1010.]\n",
        "  [ 1010.  1010.  1010.  1010.  1010.  1010.  1010.  1010.  1010.]\n",
        "  [ 1010.  1010.  1010.  1010.  1010.  1010.  1010.  1010.  1010.]\n",
        "  [ 1010.  1010.  1010.  1010.  1010.  1010.  1010.  1010.  1010.]\n",
        "  [ 1010.  1010.  1010.  1010.  1010.  1010.  1010.  1010.  1010.]\n",
        "  [ 1010.  1010.  1010.  1010.  1010.  1010.  1010.  1010.  1010.]\n",
        "  [ 1010.  1010.  1010.  1010.  1010.  1010.  1010.  1010.  1010.]\n",
        "  [ 1010.  1010.  1010.  1010.  1010.  1010.  1010.  1010.  1010.]\n",
        "  [ 1010.  1010.  1010.  1010.  1010.  1010.  1010.  1010.  1010.]\n",
        "  [ 1000.  1000.  1000.  1000.  1000.  1000.  1000.  1000.  1000.]]]\n"
       ]
      }
     ],
     "prompt_number": 8
    },
    {
     "cell_type": "code",
     "collapsed": false,
     "input": [
      "BAS_PACKAGE = flopy.modflow.ModflowBas(MF, ibound=IBOUND, strt=STRT)\n",
      "# print BAS_PACKAGE  # uncomment this at far left to see the information about the flopy BAS object"
     ],
     "language": "python",
     "metadata": {},
     "outputs": [],
     "prompt_number": 9
    },
    {
     "cell_type": "markdown",
     "metadata": {},
     "source": [
      "###Layer Property Flow Package\n",
      "Create a flopy layer property flow package object: [flopy.modflow.ModflowLpf](http://modflowpy.github.io/flopydoc/mflpf.html)."
     ]
    },
    {
     "cell_type": "code",
     "collapsed": false,
     "input": [
      "LPF_PACKAGE = flopy.modflow.ModflowLpf(MF, hk=HK, vka=VKA)  # we defined the K and anisotropy at top of file\n",
      "# print LPF_PACKAGE  # uncomment this at far left to see the information about the flopy LPF object"
     ],
     "language": "python",
     "metadata": {},
     "outputs": [],
     "prompt_number": 10
    },
    {
     "cell_type": "markdown",
     "metadata": {},
     "source": [
      "###Well Package\n",
      "Create a flopy output control object: [flopy.modflow.ModflowWel](http://modflowpy.github.io/flopydoc/mfwel.html)."
     ]
    },
    {
     "cell_type": "code",
     "collapsed": false,
     "input": [
      "WEL_PACKAGE = flopy.modflow.ModflowWel(MF, stress_period_data=[0,6,4,WELLQ])  # remember python 0 index, layer 0 = layer 1 in MF\n",
      "#print WEL_PACKAGE  # uncomment this at far left to see the information about the flopy WEL object"
     ],
     "language": "python",
     "metadata": {},
     "outputs": [],
     "prompt_number": 11
    },
    {
     "cell_type": "markdown",
     "metadata": {},
     "source": [
      "###Output Control\n",
      "Create a flopy output control object: [flopy.modflow.ModflowOc](http://modflowpy.github.io/flopydoc/mfoc.html)."
     ]
    },
    {
     "cell_type": "code",
     "collapsed": false,
     "input": [
      "OC_PACKAGE = flopy.modflow.ModflowOc(MF)   # we'll use the defaults for the model output\n",
      "# print OC_PACKAGE  # uncomment this at far left to see the information about the flopy OC object"
     ],
     "language": "python",
     "metadata": {},
     "outputs": [],
     "prompt_number": 12
    },
    {
     "cell_type": "markdown",
     "metadata": {},
     "source": [
      "###Preconditioned Conjugate Gradient Solver\n",
      "Create a flopy pcg package object: [flopy.modflow.ModflowPcg](http://modflowpy.github.io/flopydoc/mfpcg.html)."
     ]
    },
    {
     "cell_type": "code",
     "collapsed": false,
     "input": [
      "PCG_PACKAGE = flopy.modflow.ModflowPcg(MF) # we'll use the defaults for the PCG solver\n",
      "# print PCG_PACKAGE  # uncomment this at far left to see the information about the flopy PCG object"
     ],
     "language": "python",
     "metadata": {},
     "outputs": [],
     "prompt_number": 13
    },
    {
     "cell_type": "markdown",
     "metadata": {},
     "source": [
      "###Recharge Package\n",
      "Create a flopy pcg package object: [flopy.modflow.ModflowRch](http://modflowpy.github.io/flopydoc/mfrch.html)."
     ]
    },
    {
     "cell_type": "code",
     "collapsed": false,
     "input": [
      "RCH_PACKAGE = flopy.modflow.ModflowRch(MF, rech=RCH)\n",
      "# print RCH_PACKAGE  # uncomment this at far left to see the information about the flopy RCH object"
     ],
     "language": "python",
     "metadata": {},
     "outputs": [],
     "prompt_number": 14
    },
    {
     "cell_type": "markdown",
     "metadata": {},
     "source": [
      "##Flopy Tutorial 1: Writing the MODFLOW Input Files\n",
      "Before we create the model input datasets, we can do some directory cleanup to make sure that we don't accidently use old files."
     ]
    },
    {
     "cell_type": "code",
     "collapsed": false,
     "input": [
      "#Before writing input, destroy all files in folder\n",
      "#This will prevent us from reading old results\n",
      "modelfiles = os.listdir(modelpath)\n",
      "for filename in modelfiles:\n",
      "    f = os.path.join(modelpath, filename)\n",
      "    if modelname in f:\n",
      "        try:\n",
      "            os.remove(f)\n",
      "            print 'Deleted: ', filename\n",
      "        except:\n",
      "            print 'Unable to delete: ', filename"
     ],
     "language": "python",
     "metadata": {},
     "outputs": [
      {
       "output_type": "stream",
       "stream": "stdout",
       "text": [
        "Deleted:  P4-3.bas\n",
        "Deleted:  P4-3.cbc\n",
        "Deleted:  P4-3.ddn\n",
        "Deleted:  P4-3.dis\n",
        "Deleted:  P4-3.hds\n",
        "Deleted:  P4-3.list\n",
        "Deleted:  P4-3.lpf\n",
        "Deleted:  P4-3.nam\n",
        "Deleted:  P4-3.oc\n",
        "Deleted:  P4-3.pcg\n",
        "Deleted:  P4-3.rch\n",
        "Deleted:  P4-3.wel\n"
       ]
      }
     ],
     "prompt_number": 15
    },
    {
     "cell_type": "code",
     "collapsed": false,
     "input": [
      "#Now write the model input files\n",
      "MF.write_input()"
     ],
     "language": "python",
     "metadata": {},
     "outputs": [],
     "prompt_number": 16
    },
    {
     "cell_type": "markdown",
     "metadata": {},
     "source": [
      "Yup.  It's that simple, the model datasets are written using a single command (mf.write_input)."
     ]
    },
    {
     "cell_type": "markdown",
     "metadata": {},
     "source": [
      "Check in the model working directory and verify that the input files have been created.  Or if you might just add another cell, right after this one, that prints a list of all the files in our model directory.  The path we are working in is returned from this next block."
     ]
    },
    {
     "cell_type": "code",
     "collapsed": false,
     "input": [
      "# return current working directory\n",
      "os.getcwd()"
     ],
     "language": "python",
     "metadata": {},
     "outputs": [
      {
       "metadata": {},
       "output_type": "pyout",
       "prompt_number": 17,
       "text": [
        "'/Users/rjhunt1/Desktop/USGS_Network/Python_class_2015/GW1774-master/ClassMaterials/Exercises/Notebooks'"
       ]
      }
     ],
     "prompt_number": 17
    },
    {
     "cell_type": "markdown",
     "metadata": {},
     "source": [
      "##Flopy Tutorial 1: Running the Model\n",
      "\n",
      "Flopy has several methods attached to the model object that can be used to run the model.  They are run_model, run_model2, and run_model3.  Here we use run_model3, which will write output to the notebook."
     ]
    },
    {
     "cell_type": "code",
     "collapsed": false,
     "input": [
      "silent = False  #Print model output to screen?\n",
      "pause = False   #Require user to hit enter? Doesn't mean much in Ipython notebook\n",
      "report = True   #Store the output from the model in buff\n",
      "success, buff = MF.run_model(silent=silent, pause=pause, report=report)"
     ],
     "language": "python",
     "metadata": {},
     "outputs": [
      {
       "output_type": "stream",
       "stream": "stdout",
       "text": [
        "\n",
        "                                  MODFLOW-2005     \n",
        "    U.S. GEOLOGICAL SURVEY MODULAR FINITE-DIFFERENCE GROUND-WATER FLOW MODEL\n",
        "                             Version 1.11.00 8/8/2013                        \n",
        "\n",
        " Using NAME file: P4-3.nam \n",
        " Run start date and time (yyyy/mm/dd hh:mm:ss): 2015/03/05  6:55:10\n",
        "\n",
        " Solving:  Stress period:     1    Time step:     1    Ground-Water Flow Eqn.\n",
        " Run end date and time (yyyy/mm/dd hh:mm:ss): 2015/03/05  6:55:10\n",
        " Elapsed run time:  0.011 Seconds\n",
        "\n",
        "  Normal termination of simulation\n"
       ]
      }
     ],
     "prompt_number": 18
    },
    {
     "cell_type": "markdown",
     "metadata": {},
     "source": [
      "##Flopy Tutorial 1: Post Processing the Results\n",
      "To read heads from the MODFLOW binary output file, we can use the [flopy.utils.binaryfile](http://modflowpy.github.io/flopydoc/binaryfile.html) module. Specifically, we can use the HeadFile object from that module to extract head data arrays. "
     ]
    },
    {
     "cell_type": "code",
     "collapsed": false,
     "input": [
      "#imports for plotting and reading the MODFLOW binary output file\n",
      "import matplotlib.pyplot as plt\n",
      "import flopy.utils.binaryfile as bf\n",
      "\n",
      "#Create the headfile object and grab the results for last time.\n",
      "headfile = os.path.join(modelpath, modelname + '.hds')\n",
      "headfileobj = bf.HeadFile(headfile)\n",
      "\n",
      "#Get a list of times that are contained in the model\n",
      "times = headfileobj.get_times()\n",
      "print 'Headfile (' + modelname + '.hds' + ') contains the following list of times: ', times"
     ],
     "language": "python",
     "metadata": {},
     "outputs": [
      {
       "output_type": "stream",
       "stream": "stdout",
       "text": [
        "Headfile (P4-3.hds) contains the following list of times:  [1.0]\n"
       ]
      }
     ],
     "prompt_number": 19
    },
    {
     "cell_type": "code",
     "collapsed": false,
     "input": [
      "#Get a numpy array of heads for totim = 1.0\n",
      "#The get_data method will extract head data from the binary file.\n",
      "HEAD = headfileobj.get_data(totim=1.0)\n",
      "\n",
      "#Print statistics on the head\n",
      "print 'Head statistics'\n",
      "print '  min: ', HEAD.min()\n",
      "print '  max: ', HEAD.max()\n",
      "print '  std: ', HEAD.std()"
     ],
     "language": "python",
     "metadata": {},
     "outputs": [
      {
       "output_type": "stream",
       "stream": "stdout",
       "text": [
        "Head statistics\n",
        "  min:  998.17\n",
        "  max:  1003.18\n",
        "  std:  1.11241\n"
       ]
      }
     ],
     "prompt_number": 20
    },
    {
     "cell_type": "code",
     "collapsed": false,
     "input": [
      "#Create a contour plot of heads\n",
      "FIG = plt.figure(figsize=(15,13))\n",
      "\n",
      "#setup contour levels and plot extent\n",
      "LEVELS = np.arange(997., 1004., 0.5)\n",
      "EXTENT = (DELR/2., LX - DELR/2., DELC/2., LY - DELC/2.)\n",
      "print 'Contour Levels: ', LEVELS\n",
      "print 'Extent of domain: ', EXTENT\n",
      "\n",
      "#Make a contour plot on the first axis\n",
      "AX1 = FIG.add_subplot(1, 2, 1, aspect='equal')\n",
      "AX1.set_xlabel(\"x\")\n",
      "AX1.set_ylabel(\"y\")\n",
      "YTICKS = np.arange(0, 11000, 500)\n",
      "AX1.set_yticks(YTICKS)\n",
      "AX1.set_title(\"Hubbertville contour map\")\n",
      "AX1.text(2500, 7300, r\"proposed well\", fontsize=15, color=\"black\")\n",
      "AX1.text(2000, 10500, r\"River\", fontsize=10, color=\"blue\")\n",
      "AX1.text(1800, 340, r\"Green Swamp\", fontsize=10, color=\"green\")\n",
      "AX1.contour(np.flipud(HEAD[0, :, :]), levels=LEVELS, extent=EXTENT)\n",
      "\n",
      "#Make a color flood on the second axis\n",
      "AX2 = FIG.add_subplot(1, 2, 2, aspect='equal')\n",
      "AX2.set_xlabel(\"x\")\n",
      "AX2.set_ylabel(\"y\")\n",
      "AX2.set_yticks(YTICKS)\n",
      "AX2.set_title(\"Hubbertville color flood\")\n",
      "AX2.text(2500, 7300, r\"proposed well\", fontsize=15, color=\"black\")\n",
      "AX2.text(2000, 10500, r\"River\", fontsize=10, color=\"black\")\n",
      "AX2.text(1800, 340, r\"Green Swamp\", fontsize=10, color=\"black\")\n",
      "cax = AX2.imshow(HEAD[0, :, :], extent=EXTENT, interpolation='nearest')\n",
      "cbar = FIG.colorbar(cax, orientation='vertical', shrink=0.45)\n"
     ],
     "language": "python",
     "metadata": {},
     "outputs": [
      {
       "output_type": "stream",
       "stream": "stdout",
       "text": [
        "Contour Levels:  [  997.    997.5   998.    998.5   999.    999.5  1000.   1000.5  1001.\n",
        "  1001.5  1002.   1002.5  1003.   1003.5]\n",
        "Extent of domain:  (250.0, 4250.0, 250.0, 10750.0)\n"
       ]
      },
      {
       "metadata": {},
       "output_type": "display_data",
       "png": "[encoded data removed]",
       "text": [
        "<matplotlib.figure.Figure at 0x1060a1550>"
       ]
      }
     ],
     "prompt_number": 21
    },
    {
     "cell_type": "markdown",
     "metadata": {},
     "source": [
      "Look at the bottom of the MODFLOW output file (ending with a *.list) and note the water balance reported. "
     ]
    },
    {
     "cell_type": "code",
     "collapsed": false,
     "input": [
      "#look at the head in column = 4 from headobj, and then plot it\n",
      "#print HEAD along a column; COL is a variable that allows us to change this easily\n",
      "COL = 4\n",
      "print HEAD[0,:,COL]"
     ],
     "language": "python",
     "metadata": {},
     "outputs": [
      {
       "output_type": "stream",
       "stream": "stdout",
       "text": [
        "[ 1000.          1000.33197021  1000.54644775  1000.61340332  1000.46228027\n",
        "   999.887146     998.17016602  1000.40557861  1001.4989624   1002.16766357\n",
        "  1002.61688232  1002.91589355  1003.09191895  1003.15692139  1003.11645508\n",
        "  1002.9732666   1002.7286377   1002.38336182  1001.93768311  1001.39190674\n",
        "  1000.74597168  1000.        ]\n"
       ]
      }
     ],
     "prompt_number": 22
    },
    {
     "cell_type": "code",
     "collapsed": false,
     "input": [
      "# we see this is what we want, but is flipped because MODFLOW's array does not = Python, so we reverse the order (flip them) and call it \n",
      "Y = np.flipud(HEAD[0,:,COL])\n",
      "print Y"
     ],
     "language": "python",
     "metadata": {},
     "outputs": [
      {
       "output_type": "stream",
       "stream": "stdout",
       "text": [
        "[ 1000.          1000.74597168  1001.39190674  1001.93768311  1002.38336182\n",
        "  1002.7286377   1002.9732666   1003.11645508  1003.15692139  1003.09191895\n",
        "  1002.91589355  1002.61688232  1002.16766357  1001.4989624   1000.40557861\n",
        "   998.17016602   999.887146    1000.46228027  1000.61340332  1000.54644775\n",
        "  1000.33197021  1000.        ]\n"
       ]
      }
     ],
     "prompt_number": 23
    },
    {
     "cell_type": "code",
     "collapsed": false,
     "input": [
      "#for our cross section create X-coordinates to match with heads\n",
      "XCOORD = np.arange(0, 11000, 500) + 250\n",
      "print XCOORD"
     ],
     "language": "python",
     "metadata": {},
     "outputs": [
      {
       "output_type": "stream",
       "stream": "stdout",
       "text": [
        "[  250   750  1250  1750  2250  2750  3250  3750  4250  4750  5250  5750\n",
        "  6250  6750  7250  7750  8250  8750  9250  9750 10250 10750]\n"
       ]
      }
     ],
     "prompt_number": 24
    },
    {
     "cell_type": "code",
     "collapsed": false,
     "input": [
      "fig = plt.figure(figsize=(10, 5))\n",
      "ax = fig.add_subplot(1, 1, 1)\n",
      "TITLE =  'cross section of head along Column = ({0})'.format(COL)\n",
      "ax.set_title(TITLE)\n",
      "ax.set_xlabel('y')\n",
      "ax.set_ylabel('head')\n",
      "ax.set_xlim(0, 11000.)\n",
      "ax.set_ylim(980.,1010.)\n",
      "ax.text(7500, 996, r\"proposed well\", fontsize=15, color=\"black\")\n",
      "ax.text(10480, 998, r\"River\", fontsize=10, color=\"blue\",rotation='vertical')\n",
      "ax.text(300, 998, r\"Green Swamp\", fontsize=10, color=\"green\",rotation='vertical')\n",
      "ax.text(4100,1002., r\"Groundwater Divide\", fontsize=10, color=\"black\",rotation='vertical')\n",
      "ax.plot(XCOORD, Y)"
     ],
     "language": "python",
     "metadata": {},
     "outputs": [
      {
       "metadata": {},
       "output_type": "pyout",
       "prompt_number": 25,
       "text": [
        "[<matplotlib.lines.Line2D at 0x107487890>]"
       ]
      },
      {
       "metadata": {},
       "output_type": "display_data",
       "png": "[encoded data removed]",
       "text": [
        "<matplotlib.figure.Figure at 0x106b75d90>"
       ]
      }
     ],
     "prompt_number": 25
    },
    {
     "cell_type": "code",
     "collapsed": false,
     "input": [
      "#calculate the flux to Green Swamp\n",
      "HEAD_ADJACENT_CELLS = HEAD[0,-2,:]\n",
      "print \"heads in cells next to Green Swamp =\", HEAD_ADJACENT_CELLS\n",
      "FLUX_TO_SWAMP = 0\n",
      "THICK = 1000 - ZBOT   #the thickness is calculated using the height at the exit point at Green Swamp, which is the BC of 1000 m as seen in plot above\n",
      "for NODEHEAD in HEAD_ADJACENT_CELLS:\n",
      "    NODEFLUX = (HK * (NODEHEAD-1000.)/(DELC/2) * DELR * THICK) # Q = KIA\n",
      "    FLUX_TO_SWAMP += NODEFLUX\n",
      "    print 'gradient =', (NODEHEAD-1000)/(DELC/2), '  Kh =', HK, '  thickness=', THICK, ' Grid spacing =', DELC, ' Node flux =', NODEFLUX\n",
      "print \"Total Flux to Swamp =\", FLUX_TO_SWAMP, \"cubic meters per day\""
     ],
     "language": "python",
     "metadata": {},
     "outputs": [
      {
       "output_type": "stream",
       "stream": "stdout",
       "text": [
        "heads in cells next to Green Swamp = [ 1000.74609375  1000.74609375  1000.74603271  1000.74597168  1000.74597168\n",
        "  1000.74597168  1000.74603271  1000.74609375  1000.74609375]\n",
        "gradient = 0.002984375   Kh = 50.0   thickness= 20.0  Grid spacing = 500.0  Node flux = 1492.1875\n",
        "gradient = 0.002984375   Kh = 50.0   thickness= 20.0  Grid spacing = 500.0  Node flux = 1492.1875\n",
        "gradient = 0.00298413085938   Kh = 50.0   thickness= 20.0  Grid spacing = 500.0  Node flux = 1492.06542969\n",
        "gradient = 0.00298388671875   Kh = 50.0   thickness= 20.0  Grid spacing = 500.0  Node flux = 1491.94335938\n",
        "gradient = 0.00298388671875   Kh = 50.0   thickness= 20.0  Grid spacing = 500.0  Node flux = 1491.94335938\n",
        "gradient = 0.00298388671875   Kh = 50.0   thickness= 20.0  Grid spacing = 500.0  Node flux = 1491.94335938\n",
        "gradient = 0.00298413085938   Kh = 50.0   thickness= 20.0  Grid spacing = 500.0  Node flux = 1492.06542969\n",
        "gradient = 0.002984375   Kh = 50.0   thickness= 20.0  Grid spacing = 500.0  Node flux = 1492.1875\n",
        "gradient = 0.002984375   Kh = 50.0   thickness= 20.0  Grid spacing = 500.0  Node flux = 1492.1875\n",
        "Total Flux to Swamp = 13428.7109375 cubic meters per day\n"
       ]
      }
     ],
     "prompt_number": 43
    },
    {
     "cell_type": "code",
     "collapsed": false,
     "input": [
      "#calculate the flux to River\n",
      "HEAD_ADJACENT_CELLS = HEAD[0,1,:]\n",
      "print \"heads in cells next to River =\", HEAD_ADJACENT_CELLS\n",
      "FLUX_TO_RIVER = 0\n",
      "THICK = 1000 - ZBOT   #the thickness is calculated using the height at the exit point at the River, which is the BC of 1000 m as seen in plot above\n",
      "for NODEHEAD in HEAD_ADJACENT_CELLS:\n",
      "    NODEFLUX = (HK * (NODEHEAD-1000.)/(DELC/2) * DELR * THICK) # Q = KIA\n",
      "    FLUX_TO_RIVER += NODEFLUX\n",
      "    print 'gradient =', (NODEHEAD-1000)/(DELC/2), '  Kh =', HK, '  thickness=', THICK, ' Grid spacing =', DELC, ' Node flux =', NODEFLUX\n",
      "print \"Total Flux to River =\", FLUX_TO_RIVER, \"cubic meters per day\""
     ],
     "language": "python",
     "metadata": {},
     "outputs": [
      {
       "output_type": "stream",
       "stream": "stdout",
       "text": [
        "heads in cells next to River = [ 1000.3939209   1000.38140869  1000.36077881  1000.34075928  1000.33197021\n",
        "  1000.34075928  1000.36077881  1000.38140869  1000.3939209 ]\n",
        "gradient = 0.00157568359375   Kh = 50.0   thickness= 20.0  Grid spacing = 500.0  Node flux = 787.841796875\n",
        "gradient = 0.00152563476562   Kh = 50.0   thickness= 20.0  Grid spacing = 500.0  Node flux = 762.817382812\n",
        "gradient = 0.00144311523437   Kh = 50.0   thickness= 20.0  Grid spacing = 500.0  Node flux = 721.557617188\n",
        "gradient = 0.00136303710938   Kh = 50.0   thickness= 20.0  Grid spacing = 500.0  Node flux = 681.518554688\n",
        "gradient = 0.00132788085938   Kh = 50.0   thickness= 20.0  Grid spacing = 500.0  Node flux = 663.940429688\n",
        "gradient = 0.00136303710938   Kh = 50.0   thickness= 20.0  Grid spacing = 500.0  Node flux = 681.518554688\n",
        "gradient = 0.00144311523437   Kh = 50.0   thickness= 20.0  Grid spacing = 500.0  Node flux = 721.557617188\n",
        "gradient = 0.00152563476562   Kh = 50.0   thickness= 20.0  Grid spacing = 500.0  Node flux = 762.817382812\n",
        "gradient = 0.00157568359375   Kh = 50.0   thickness= 20.0  Grid spacing = 500.0  Node flux = 787.841796875\n",
        "Total Flux to River = 6571.41113281 cubic meters per day\n"
       ]
      }
     ],
     "prompt_number": 44
    },
    {
     "cell_type": "code",
     "collapsed": false,
     "input": [
      "print 'Flux to Green Swamp =', FLUX_TO_SWAMP, 'Flux to River =', FLUX_TO_RIVER\n",
      "BCFLUX = FLUX_TO_SWAMP + FLUX_TO_RIVER\n",
      "Q = WELLQ * -1\n",
      "print 'Flux to perimeter boundaries =', BCFLUX, ', Well pumping =', Q, ', Total Vol Out =', BCFLUX+Q, 'cubic meters per day'"
     ],
     "language": "python",
     "metadata": {},
     "outputs": [
      {
       "output_type": "stream",
       "stream": "stdout",
       "text": [
        "Flux to Green Swamp = 13428.7109375 Flux to River = 6571.41113281\n",
        "Flux to perimeter boundaries = 20000.1220703 , Well pumping = 20000.0 , Total Vol Out = 40000.1220703 cubic meters per day\n"
       ]
      }
     ],
     "prompt_number": 45
    },
    {
     "cell_type": "markdown",
     "metadata": {},
     "source": [
      "##Testing your Skills\n",
      "\n",
      "1.  Does the total volumetric flux out equal that reported in the MODFLOW list file?\n",
      "\n",
      "2.  Experiment with horizontal grid resolution, well location, recharge, pumping rate, and aquifer characteristics.  Rerun the model and post process to evaluate the effects."
     ]
    },
    {
     "cell_type": "code",
     "collapsed": false,
     "input": [],
     "language": "python",
     "metadata": {},
     "outputs": [],
     "prompt_number": 28
    }
   ],
   "metadata": {}
  }
 ]
}