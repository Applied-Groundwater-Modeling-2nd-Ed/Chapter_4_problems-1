{
 "cells": [
  {
   "cell_type": "markdown",
   "metadata": {},
   "source": [
    "<img src=\"flopylogo.png\" style=\"float: left\">\n",
    "\n",
    "# Problem P4.5 Hubbertville Areal Model Perimeter Boundary Conditions\n",
    "\n",
    "In Problem P4.3 from page 172-174 in Anderson, Woessner and Hunt (2015), we are asked to construct an areal 2D model to assess impacts of pumping.  The town of Hubbertville is planning to expand its water supply by constructing a pumping well in an unconfined gravel aquifer (Fig. P4.3). The well is designed to pump constantly at a rate of 20,000 m3/day. Well construction was halted by the State Fish and Game Service who manage the Green Swamp Conservation area. The agency claimed that pumping would “significantly reduce” groundwater discharge to the swamp and damage waterfowl habitat. The town claimed the fully penetrating river boundary to the north and the groundwater divide located near the center of the valley would prevent any change in flow to the swamp.\n",
    "\n",
    "Building on P4.3, in Problem P4.5 we are asked to replace the constant head boundaries at both the river and swamp in Problem P4.3a with specified flow boundaries. Use the water balance results from Problem P4.3a to calculate the boundary fluxes at the river and swamp. Note that all the boundaries of the model are now specified flow boundaries, including the zero flow lateral boundary conditions.\n",
    "\n",
    "## Part a.\n",
    "Run the model with specified flow boundaries using starting heads of 1000 m and then a second time with starting heads of 2000 m. (Note: Some GUIs will warn that using all specified flow boundaries can create errors, or will not\n",
    "permit the model to execute under these conditions). Compare the results with those in P4.3a and explain the differences.\n",
    "\n",
    "In this notebook, we will again work through the problem using MODFLOW and the Python tool set Flopy. Notice how much code is reused from P4.1 because the variable names remained the same.\n",
    "\n",
    "<img src=\"P4.3_figure.tiff\" style=\"float: center\">\n",
    "\n",
    "Below is an iPython Notebook that builds upon the Python Notebook created in Problem P4.3. See the Github wiki associated with this Chapter for information on one suggested installation and setup configuration for Python and iPython Notebook.\n",
    "\n",
    "[Acknowledgements: This tutorial is modeled after example iPython Notebooks developed by Chris Langevin and Joe Hughes for the USGS Spring 2015 Python Training course GW1774]"
   ]
  },
  {
   "cell_type": "markdown",
   "metadata": {},
   "source": [
    "##Flopy Tutorial 1: Creating the Model\n",
    "Using the same steps as in P4.3, we will create a simple groundwater flow model by following the tutorial included on the Flopy website.  We will make a few small changes  so that the tutorial works with our file structure.\n",
    "\n",
    "Visit the tutorial website [here](http://modflowpy.github.io/flopydoc/tutorial1.html \"tutorial\")."
   ]
  },
  {
   "cell_type": "markdown",
   "metadata": {},
   "source": [
    "###Setup the Notebook Environment and Import Flopy\n",
    "Load a few standard libraries, and then load flopy."
   ]
  },
  {
   "cell_type": "code",
   "execution_count": 1,
   "metadata": {
    "collapsed": true
   },
   "outputs": [],
   "source": [
    "%matplotlib inline\n",
    "import sys\n",
    "import os\n",
    "import shutil\n",
    "import numpy as np\n",
    "from subprocess import check_output\n",
    "\n",
    "# Import flopy\n",
    "import flopy"
   ]
  },
  {
   "cell_type": "markdown",
   "metadata": {},
   "source": [
    "###Setup a New Directory and Change Paths\n",
    "For this tutorial, we will work in a new subdirectory underneath the directory where the notebook is located. We can use some fancy Python tools to help us manage the directory creation. Note that if you encounter path problems with this workbook, you can stop and then restart the kernel and the paths will be reset."
   ]
  },
  {
   "cell_type": "code",
   "execution_count": 2,
   "metadata": {
    "collapsed": false
   },
   "outputs": [
    {
     "name": "stdout",
     "output_type": "stream",
     "text": [
      "Name of model path:  /Users/rjhunt1/GitHub/Chapter_4_problems-1/P4-5_Hubbertville\n",
      "Creating model working directory.\n"
     ]
    }
   ],
   "source": [
    "# Set the name of the path to the model working directory\n",
    "dirname = \"P4-5_Hubbertville\"\n",
    "datapath = os.getcwd()\n",
    "modelpath = os.path.join(datapath, dirname)\n",
    "print 'Name of model path: ', modelpath\n",
    "\n",
    "# Now let's check if this directory exists.  If not, then we will create it.\n",
    "if os.path.exists(modelpath):\n",
    "    print 'Model working directory already exists.'\n",
    "else:\n",
    "    print 'Creating model working directory.'\n",
    "    os.mkdir(modelpath)"
   ]
  },
  {
   "cell_type": "markdown",
   "metadata": {},
   "source": [
    "###Define the Model Extent, Grid Resolution, and Characteristics\n",
    "It is normally good practice to group things that you might want to change into a single code block.  This makes it easier to make changes and rerun the code."
   ]
  },
  {
   "cell_type": "code",
   "execution_count": 3,
   "metadata": {
    "collapsed": false
   },
   "outputs": [
    {
     "name": "stdout",
     "output_type": "stream",
     "text": [
      "DELR = 500.0   DELC = 500.0   DELV = 50.0\n",
      "BOTM = [ 1030.   980.]\n",
      "Recharge = 0.001\n",
      "Pumping well rate = 0.0\n"
     ]
    }
   ],
   "source": [
    "# model domain and grid definition\n",
    "# for clarity, user entered variables are all caps; python syntax are lower case or mixed case\n",
    "# In a contrast to P4.1 and P4.2, this is an areal 2D model\n",
    "LX = 4500.\n",
    "LY = 11000.   # note that there is an added 500m on the top and bottom to represent the boundary conditions,that leaves an aqufier lenght of 10000 m  \n",
    "ZTOP = 1030.  # the system is unconfined so set the top above land surface so that the water table never > layer top\n",
    "ZBOT = 980.\n",
    "NLAY = 1\n",
    "NROW = 22\n",
    "NCOL = 9\n",
    "DELR = LX / NCOL  # recall that MODFLOW convention is DELR is along a row, thus has items = NCOL; see page XXX in AW&H (2015)\n",
    "DELC = LY / NROW  # recall that MODFLOW convention is DELC is along a column, thus has items = NROW; see page XXX in AW&H (2015)\n",
    "DELV = (ZTOP - ZBOT) / NLAY\n",
    "BOTM = np.linspace(ZTOP, ZBOT, NLAY + 1)\n",
    "HK = 50.\n",
    "VKA = 1.\n",
    "RCH = 0.001\n",
    "WELLQ = 0.   #recall MODFLOW convention, negative means pumped out of the model domain (=aquifer)\n",
    "print \"DELR =\", DELR, \"  DELC =\", DELC, '  DELV =', DELV\n",
    "print \"BOTM =\", BOTM\n",
    "print \"Recharge =\", RCH \n",
    "print \"Pumping well rate =\", WELLQ\n"
   ]
  },
  {
   "cell_type": "markdown",
   "metadata": {},
   "source": [
    "###Create the MODFLOW Model Object\n",
    "Create a flopy MODFLOW object: [flopy.modflow.Modflow](http://modflowpy.github.io/flopydoc/mf.html)."
   ]
  },
  {
   "cell_type": "code",
   "execution_count": 4,
   "metadata": {
    "collapsed": false
   },
   "outputs": [
    {
     "name": "stdout",
     "output_type": "stream",
     "text": [
      "Model executable:  /Users/rjhunt1/GitHub/Chapter_4_problems-1/mfnwt\n"
     ]
    }
   ],
   "source": [
    "# Assign name and create modflow model object\n",
    "modelname = 'P4-5'\n",
    "#exe_name = os.path.join(datapath, 'mfnwt.exe') # for Windows OS\n",
    "exe_name = os.path.join(datapath, 'mfnwt')     # for Mac OS\n",
    "print 'Model executable: ', exe_name\n",
    "MF = flopy.modflow.Modflow(modelname, exe_name=exe_name, model_ws=modelpath)"
   ]
  },
  {
   "cell_type": "markdown",
   "metadata": {},
   "source": [
    "###Discretization Package\n",
    "Create a flopy discretization package object: [flopy.modflow.ModflowDis](http://modflowpy.github.io/flopydoc/mfdis.html)."
   ]
  },
  {
   "cell_type": "code",
   "execution_count": 5,
   "metadata": {
    "collapsed": true
   },
   "outputs": [],
   "source": [
    "# Create the discretization object\n",
    "TOP = ZTOP * np.ones((NROW, NCOL),dtype=np.float)"
   ]
  },
  {
   "cell_type": "code",
   "execution_count": 6,
   "metadata": {
    "collapsed": true
   },
   "outputs": [],
   "source": [
    "DIS_PACKAGE = flopy.modflow.ModflowDis(MF, NLAY, NROW, NCOL, delr=DELR, delc=DELC,\n",
    "                               top=TOP, botm=BOTM[1:], laycbd=0)\n",
    "# print DIS_PACKAGE  #uncomment this on far left to see information about the flopy object"
   ]
  },
  {
   "cell_type": "markdown",
   "metadata": {},
   "source": [
    "###Basic Package\n",
    "Create a flopy basic package object: [flopy.modflow.ModflowBas](http://modflowpy.github.io/flopydoc/mfbas.html)."
   ]
  },
  {
   "cell_type": "code",
   "execution_count": 7,
   "metadata": {
    "collapsed": false
   },
   "outputs": [
    {
     "name": "stdout",
     "output_type": "stream",
     "text": [
      "[[[1 1 1 1 1 1 1 1 1]\n",
      "  [1 1 1 1 1 1 1 1 1]\n",
      "  [1 1 1 1 1 1 1 1 1]\n",
      "  [1 1 1 1 1 1 1 1 1]\n",
      "  [1 1 1 1 1 1 1 1 1]\n",
      "  [1 1 1 1 1 1 1 1 1]\n",
      "  [1 1 1 1 1 1 1 1 1]\n",
      "  [1 1 1 1 1 1 1 1 1]\n",
      "  [1 1 1 1 1 1 1 1 1]\n",
      "  [1 1 1 1 1 1 1 1 1]\n",
      "  [1 1 1 1 1 1 1 1 1]\n",
      "  [1 1 1 1 1 1 1 1 1]\n",
      "  [1 1 1 1 1 1 1 1 1]\n",
      "  [1 1 1 1 1 1 1 1 1]\n",
      "  [1 1 1 1 1 1 1 1 1]\n",
      "  [1 1 1 1 1 1 1 1 1]\n",
      "  [1 1 1 1 1 1 1 1 1]\n",
      "  [1 1 1 1 1 1 1 1 1]\n",
      "  [1 1 1 1 1 1 1 1 1]\n",
      "  [1 1 1 1 1 1 1 1 1]\n",
      "  [1 1 1 1 1 1 1 1 1]\n",
      "  [1 1 1 1 1 1 1 1 1]]]\n"
     ]
    }
   ],
   "source": [
    "# Variables for the BAS package\n",
    "IBOUND = np.ones((NLAY, NROW, NCOL), dtype=np.int32)  # all nodes are active (IBOUND = 1)\n",
    "\n",
    "# In this problem we have no specified heads \n",
    "print IBOUND"
   ]
  },
  {
   "cell_type": "code",
   "execution_count": 8,
   "metadata": {
    "collapsed": false
   },
   "outputs": [
    {
     "name": "stdout",
     "output_type": "stream",
     "text": [
      "[[[ 1000.  1000.  1000.  1000.  1000.  1000.  1000.  1000.  1000.]\n",
      "  [ 1000.  1000.  1000.  1000.  1000.  1000.  1000.  1000.  1000.]\n",
      "  [ 1000.  1000.  1000.  1000.  1000.  1000.  1000.  1000.  1000.]\n",
      "  [ 1000.  1000.  1000.  1000.  1000.  1000.  1000.  1000.  1000.]\n",
      "  [ 1000.  1000.  1000.  1000.  1000.  1000.  1000.  1000.  1000.]\n",
      "  [ 1000.  1000.  1000.  1000.  1000.  1000.  1000.  1000.  1000.]\n",
      "  [ 1000.  1000.  1000.  1000.  1000.  1000.  1000.  1000.  1000.]\n",
      "  [ 1000.  1000.  1000.  1000.  1000.  1000.  1000.  1000.  1000.]\n",
      "  [ 1000.  1000.  1000.  1000.  1000.  1000.  1000.  1000.  1000.]\n",
      "  [ 1000.  1000.  1000.  1000.  1000.  1000.  1000.  1000.  1000.]\n",
      "  [ 1000.  1000.  1000.  1000.  1000.  1000.  1000.  1000.  1000.]\n",
      "  [ 1000.  1000.  1000.  1000.  1000.  1000.  1000.  1000.  1000.]\n",
      "  [ 1000.  1000.  1000.  1000.  1000.  1000.  1000.  1000.  1000.]\n",
      "  [ 1000.  1000.  1000.  1000.  1000.  1000.  1000.  1000.  1000.]\n",
      "  [ 1000.  1000.  1000.  1000.  1000.  1000.  1000.  1000.  1000.]\n",
      "  [ 1000.  1000.  1000.  1000.  1000.  1000.  1000.  1000.  1000.]\n",
      "  [ 1000.  1000.  1000.  1000.  1000.  1000.  1000.  1000.  1000.]\n",
      "  [ 1000.  1000.  1000.  1000.  1000.  1000.  1000.  1000.  1000.]\n",
      "  [ 1000.  1000.  1000.  1000.  1000.  1000.  1000.  1000.  1000.]\n",
      "  [ 1000.  1000.  1000.  1000.  1000.  1000.  1000.  1000.  1000.]\n",
      "  [ 1000.  1000.  1000.  1000.  1000.  1000.  1000.  1000.  1000.]\n",
      "  [ 1000.  1000.  1000.  1000.  1000.  1000.  1000.  1000.  1000.]]]\n"
     ]
    }
   ],
   "source": [
    "STRT = 1000 * np.ones((NLAY, NROW, NCOL), dtype=np.float32)  # P4.5a starting head =1000 m throughout model domain\n",
    "print STRT"
   ]
  },
  {
   "cell_type": "code",
   "execution_count": 9,
   "metadata": {
    "collapsed": false
   },
   "outputs": [],
   "source": [
    "BAS_PACKAGE = flopy.modflow.ModflowBas(MF, ibound=IBOUND, strt=STRT)\n",
    "# print BAS_PACKAGE  # uncomment this at far left to see the information about the flopy BAS object"
   ]
  },
  {
   "cell_type": "markdown",
   "metadata": {},
   "source": [
    "###Upstream Weighting Package (like Layer Property Flow Package)\n",
    "Create a flopy layer property flow package object: [flopy.modflow.ModflowUpw](http://modflowpy.github.io/flopydoc/mfupw.html)."
   ]
  },
  {
   "cell_type": "code",
   "execution_count": 10,
   "metadata": {
    "collapsed": false
   },
   "outputs": [],
   "source": [
    "LPF_PACKAGE = flopy.modflow.ModflowUpw(MF, laytyp=1, hk=HK, vka=VKA)  # we defined the K and anisotropy at top of file\n",
    "# print LPF_PACKAGE  # uncomment this at far left to see the information about the flopy LPF object"
   ]
  },
  {
   "cell_type": "markdown",
   "metadata": {},
   "source": [
    "###Well Package\n",
    "Create a flopy output control object: [flopy.modflow.ModflowWel](http://modflowpy.github.io/flopydoc/mfwel.html)."
   ]
  },
  {
   "cell_type": "code",
   "execution_count": 11,
   "metadata": {
    "collapsed": false
   },
   "outputs": [],
   "source": [
    "STRESS_PERIOD_DATA = [\n",
    "                      [0, 0, 0, -2500],   #layer, row, column, Specified flux Q from P4.3 northern BC\n",
    "                      [0, 0, 1, -2500],   #remember Python indexing is zero based\n",
    "                      [0, 0, 2, -2500],\n",
    "                      [0, 0, 3, -2500],\n",
    "                      [0, 0, 4, -2500],\n",
    "                      [0, 0, 5, -2500],\n",
    "                      [0, 0, 6, -2500],\n",
    "                      [0, 0, 7, -2500],\n",
    "                      [0, 0, 8, -2500],\n",
    "                      [0, 21, 0, -2500],   #layer, row, column, Specified flux Q from P4.3 southern BC\n",
    "                      [0, 21, 1, -2500],   #remember Python indexing is zero based\n",
    "                      [0, 21, 2, -2500],\n",
    "                      [0, 21, 3, -2500],\n",
    "                      [0, 21, 4, -2500],\n",
    "                      [0, 21, 5, -2500],\n",
    "                      [0, 21, 6, -2500],\n",
    "                      [0, 21, 7, -2500],\n",
    "                      [0, 21, 8, -2500]]    \n",
    "\n",
    "WEL_PACKAGE = flopy.modflow.ModflowWel(MF, stress_period_data=STRESS_PERIOD_DATA)  # remember python 0 index, layer 0 = layer 1 in MF\n",
    "#print WEL_PACKAGE  # uncomment this at far left to see the information about the flopy WEL object"
   ]
  },
  {
   "cell_type": "markdown",
   "metadata": {},
   "source": [
    "###Output Control\n",
    "Create a flopy output control object: [flopy.modflow.ModflowOc](http://modflowpy.github.io/flopydoc/mfoc.html)."
   ]
  },
  {
   "cell_type": "code",
   "execution_count": 12,
   "metadata": {
    "collapsed": false
   },
   "outputs": [],
   "source": [
    "OC_PACKAGE = flopy.modflow.ModflowOc(MF)   # we'll use the defaults for the model output\n",
    "# print OC_PACKAGE  # uncomment this at far left to see the information about the flopy OC object"
   ]
  },
  {
   "cell_type": "markdown",
   "metadata": {},
   "source": [
    "###Newton-Raphson Solver\n",
    "Create a flopy pcg package object: [flopy.modflow.ModflowNwt](http://modflowpy.github.io/flopydoc/mfnwt.html)."
   ]
  },
  {
   "cell_type": "code",
   "execution_count": 13,
   "metadata": {
    "collapsed": false
   },
   "outputs": [],
   "source": [
    "NWT_PACKAGE = flopy.modflow.ModflowNwt(MF, headtol=0.001, fluxtol=5000, maxiterout=900) \n",
    "# print NWT_PACKAGE  # uncomment this at far left to see the information about the flopy PCG object"
   ]
  },
  {
   "cell_type": "markdown",
   "metadata": {},
   "source": [
    "###Recharge Package\n",
    "Create a flopy pcg package object: [flopy.modflow.ModflowRch](http://modflowpy.github.io/flopydoc/mfrch.html)."
   ]
  },
  {
   "cell_type": "code",
   "execution_count": 14,
   "metadata": {
    "collapsed": false
   },
   "outputs": [
    {
     "name": "stdout",
     "output_type": "stream",
     "text": [
      "[[ 0.     0.     0.     0.     0.     0.     0.     0.     0.   ]\n",
      " [ 0.001  0.001  0.001  0.001  0.001  0.001  0.001  0.001  0.001]\n",
      " [ 0.001  0.001  0.001  0.001  0.001  0.001  0.001  0.001  0.001]\n",
      " [ 0.001  0.001  0.001  0.001  0.001  0.001  0.001  0.001  0.001]\n",
      " [ 0.001  0.001  0.001  0.001  0.001  0.001  0.001  0.001  0.001]\n",
      " [ 0.001  0.001  0.001  0.001  0.001  0.001  0.001  0.001  0.001]\n",
      " [ 0.001  0.001  0.001  0.001  0.001  0.001  0.001  0.001  0.001]\n",
      " [ 0.001  0.001  0.001  0.001  0.001  0.001  0.001  0.001  0.001]\n",
      " [ 0.001  0.001  0.001  0.001  0.001  0.001  0.001  0.001  0.001]\n",
      " [ 0.001  0.001  0.001  0.001  0.001  0.001  0.001  0.001  0.001]\n",
      " [ 0.001  0.001  0.001  0.001  0.001  0.001  0.001  0.001  0.001]\n",
      " [ 0.001  0.001  0.001  0.001  0.001  0.001  0.001  0.001  0.001]\n",
      " [ 0.001  0.001  0.001  0.001  0.001  0.001  0.001  0.001  0.001]\n",
      " [ 0.001  0.001  0.001  0.001  0.001  0.001  0.001  0.001  0.001]\n",
      " [ 0.001  0.001  0.001  0.001  0.001  0.001  0.001  0.001  0.001]\n",
      " [ 0.001  0.001  0.001  0.001  0.001  0.001  0.001  0.001  0.001]\n",
      " [ 0.001  0.001  0.001  0.001  0.001  0.001  0.001  0.001  0.001]\n",
      " [ 0.001  0.001  0.001  0.001  0.001  0.001  0.001  0.001  0.001]\n",
      " [ 0.001  0.001  0.001  0.001  0.001  0.001  0.001  0.001  0.001]\n",
      " [ 0.001  0.001  0.001  0.001  0.001  0.001  0.001  0.001  0.001]\n",
      " [ 0.001  0.001  0.001  0.001  0.001  0.001  0.001  0.001  0.001]\n",
      " [ 0.     0.     0.     0.     0.     0.     0.     0.     0.   ]]\n"
     ]
    }
   ],
   "source": [
    "#In Problem P4.3 the River and Swamp were specified head BCs. MODFLOW does not include recharge added to a \n",
    "#a specified head node in its water budget.  Now that we've changed them to active nodes (IBOUND=1) these would receive \n",
    "#recharge, and our model would be out of balance if we simply plugged in the BC fluxes. Try it, you should see that\n",
    "#perimeter boundary fluxes calculated from P4.3 < recharge specified in P4.5).  Therefore, we'll adjust the recharge\n",
    "#array so that the perimeter BC nodes are given a recharge rate = 0.\n",
    "\n",
    "RCH_ARRAY = RCH * np.ones((NROW, NCOL), dtype=np.float32)  # set the variable RCH specifed above for model domain\n",
    "RCH_ARRAY[0, :] = 0  #don't forget arrays are zero-based!\n",
    "RCH_ARRAY[-1, :] = 0  #-1 is Python for last in array\n",
    "print RCH_ARRAY"
   ]
  },
  {
   "cell_type": "code",
   "execution_count": 15,
   "metadata": {
    "collapsed": false
   },
   "outputs": [],
   "source": [
    "RCH_PACKAGE = flopy.modflow.ModflowRch(MF, rech=RCH_ARRAY)\n",
    "# print RCH_PACKAGE  # uncomment this at far left to see the information about the flopy RCH object"
   ]
  },
  {
   "cell_type": "markdown",
   "metadata": {},
   "source": [
    "##Flopy Tutorial 1: Writing the MODFLOW Input Files\n",
    "Before we create the model input datasets, we can do some directory cleanup to make sure that we don't accidently use old files."
   ]
  },
  {
   "cell_type": "code",
   "execution_count": 16,
   "metadata": {
    "collapsed": false
   },
   "outputs": [
    {
     "name": "stdout",
     "output_type": "stream",
     "text": [
      "/Users/rjhunt1/GitHub/Chapter_4_problems-1/P4-5_Hubbertville\n",
      "[]\n"
     ]
    }
   ],
   "source": [
    "#Before writing input, destroy all files in folder to prevent reusing old files\n",
    "#Here's the working directory\n",
    "print modelpath\n",
    "#Here's what's currently in the working directory\n",
    "modelfiles = os.listdir(modelpath)\n",
    "print modelfiles"
   ]
  },
  {
   "cell_type": "code",
   "execution_count": 17,
   "metadata": {
    "collapsed": false
   },
   "outputs": [],
   "source": [
    "#delete these files to prevent us from reading old results\n",
    "modelfiles = os.listdir(modelpath)\n",
    "for filename in modelfiles:\n",
    "    f = os.path.join(modelpath, filename)\n",
    "    if modelname in f:\n",
    "        try:\n",
    "            os.remove(f)\n",
    "            print 'Deleted: ', filename\n",
    "        except:\n",
    "            print 'Unable to delete: ', filename"
   ]
  },
  {
   "cell_type": "code",
   "execution_count": 18,
   "metadata": {
    "collapsed": true
   },
   "outputs": [],
   "source": [
    "#Now write the model input files\n",
    "MF.write_input()"
   ]
  },
  {
   "cell_type": "markdown",
   "metadata": {},
   "source": [
    "Yup.  It's that simple, the model datasets are written using a single command (mf.write_input)."
   ]
  },
  {
   "cell_type": "markdown",
   "metadata": {},
   "source": [
    "Check in the model working directory and verify that the input files have been created.  Or if you might just add another cell, right after this one, that prints a list of all the files in our model directory.  The path we are working in is returned from this next block."
   ]
  },
  {
   "cell_type": "code",
   "execution_count": 19,
   "metadata": {
    "collapsed": false
   },
   "outputs": [
    {
     "name": "stdout",
     "output_type": "stream",
     "text": [
      "You can check the newly created files in /Users/rjhunt1/GitHub/Chapter_4_problems-1/P4-5_Hubbertville\n"
     ]
    }
   ],
   "source": [
    "# return current working directory\n",
    "print \"You can check the newly created files in\", modelpath\n"
   ]
  },
  {
   "cell_type": "markdown",
   "metadata": {},
   "source": [
    "##Flopy Tutorial 1: Running the Model\n",
    "\n",
    "Flopy has several methods attached to the model object that can be used to run the model.  They are run_model, run_model2, and run_model3.  Here we use run_model3, which will write output to the notebook."
   ]
  },
  {
   "cell_type": "code",
   "execution_count": 20,
   "metadata": {
    "collapsed": false
   },
   "outputs": [
    {
     "name": "stdout",
     "output_type": "stream",
     "text": [
      "FloPy is using the following executable to run the model: /Users/rjhunt1/GitHub/Chapter_4_problems-1/mfnwt\n",
      "\n",
      "                                  MODFLOW-NWT-SWR1 \n",
      "    U.S. GEOLOGICAL SURVEY MODULAR FINITE-DIFFERENCE GROUNDWATER-FLOW MODEL\n",
      "                             WITH NEWTON FORMULATION\n",
      "                             Version 1.0.9 07/01/2014                        \n",
      "                    BASED ON MODFLOW-2005 Version 1.11.0 08/08/2013                       \n",
      "\n",
      "                    SWR1 Version 1.03.0 08/30/2013                       \n",
      "\n",
      " Using NAME file: P4-5.nam \n",
      " Run start date and time (yyyy/mm/dd hh:mm:ss): 2015/04/29 16:17:24\n",
      "\n",
      " Solving:  Stress period:     1    Time step:     1    Groundwater-Flow Eqn.\n",
      " Run end date and time (yyyy/mm/dd hh:mm:ss): 2015/04/29 16:17:24\n",
      " Elapsed run time:  0.015 Seconds\n",
      "\n",
      "  Normal termination of simulation\n"
     ]
    }
   ],
   "source": [
    "silent = False  #Print model output to screen?\n",
    "pause = False   #Require user to hit enter? Doesn't mean much in Ipython notebook\n",
    "report = True   #Store the output from the model in buff\n",
    "success, buff = MF.run_model(silent=silent, pause=pause, report=report)"
   ]
  },
  {
   "cell_type": "markdown",
   "metadata": {},
   "source": [
    "##Flopy Tutorial 1: Post Processing the Results\n",
    "To read heads from the MODFLOW binary output file, we can use the [flopy.utils.binaryfile](http://modflowpy.github.io/flopydoc/binaryfile.html) module. Specifically, we can use the HeadFile object from that module to extract head data arrays. "
   ]
  },
  {
   "cell_type": "code",
   "execution_count": 21,
   "metadata": {
    "collapsed": false
   },
   "outputs": [
    {
     "name": "stdout",
     "output_type": "stream",
     "text": [
      "Headfile (P4-5.hds) contains the following list of times:  [1.0]\n"
     ]
    }
   ],
   "source": [
    "#imports for plotting and reading the MODFLOW binary output file\n",
    "import matplotlib.pyplot as plt\n",
    "import flopy.utils.binaryfile as bf\n",
    "\n",
    "#Create the headfile object and grab the results for last time.\n",
    "headfile = os.path.join(modelpath, modelname + '.hds')\n",
    "headfileobj = bf.HeadFile(headfile)\n",
    "\n",
    "#Get a list of times that are contained in the model\n",
    "times = headfileobj.get_times()\n",
    "print 'Headfile (' + modelname + '.hds' + ') contains the following list of times: ', times"
   ]
  },
  {
   "cell_type": "code",
   "execution_count": 22,
   "metadata": {
    "collapsed": false
   },
   "outputs": [
    {
     "name": "stdout",
     "output_type": "stream",
     "text": [
      "Head statistics\n",
      "  min:  989.465\n",
      "  max:  1004.6\n",
      "  std:  4.77231\n"
     ]
    }
   ],
   "source": [
    "#Get a numpy array of heads for totim = 1.0\n",
    "#The get_data method will extract head data from the binary file.\n",
    "HEAD = headfileobj.get_data(totim=1.0)\n",
    "\n",
    "#Print statistics on the head\n",
    "print 'Head statistics'\n",
    "print '  min: ', HEAD.min()\n",
    "print '  max: ', HEAD.max()\n",
    "print '  std: ', HEAD.std()"
   ]
  },
  {
   "cell_type": "code",
   "execution_count": 23,
   "metadata": {
    "collapsed": false
   },
   "outputs": [
    {
     "name": "stdout",
     "output_type": "stream",
     "text": [
      "Contour Levels:  [  989.    989.5   990.    990.5   991.    991.5   992.    992.5   993.\n",
      "   993.5   994.    994.5   995.    995.5   996.    996.5   997.    997.5\n",
      "   998.    998.5   999.    999.5  1000.   1000.5  1001.   1001.5  1002.\n",
      "  1002.5  1003.   1003.5  1004.   1004.5]\n",
      "Extent of domain:  (250.0, 4250.0, 250.0, 10750.0)\n"
     ]
    },
    {
     "data": {
      "image/png": "[encoded data removed]",
      "text/plain": [
       "<matplotlib.figure.Figure at 0x10617dad0>"
      ]
     },
     "metadata": {},
     "output_type": "display_data"
    }
   ],
   "source": [
    "#Create a contour plot of heads\n",
    "FIG = plt.figure(figsize=(15,13))\n",
    "\n",
    "#setup contour levels and plot extent\n",
    "LEVELS = np.arange(989., 1005., 0.5)\n",
    "EXTENT = (DELR/2., LX - DELR/2., DELC/2., LY - DELC/2.)\n",
    "print 'Contour Levels: ', LEVELS\n",
    "print 'Extent of domain: ', EXTENT\n",
    "\n",
    "#Make a contour plot on the first axis\n",
    "AX1 = FIG.add_subplot(1, 2, 1, aspect='equal')\n",
    "AX1.set_xlabel(\"x\")\n",
    "AX1.set_ylabel(\"y\")\n",
    "YTICKS = np.arange(0, 11000, 500)\n",
    "AX1.set_yticks(YTICKS)\n",
    "AX1.set_title(\"Hubbertville contour map\")\n",
    "AX1.text(2000, 10500, r\"River\", fontsize=10, color=\"blue\")\n",
    "AX1.text(1800, 340, r\"Green Swamp\", fontsize=10, color=\"green\")\n",
    "AX1.contour(np.flipud(HEAD[0, :, :]), levels=LEVELS, extent=EXTENT)\n",
    "\n",
    "#Make a color flood on the second axis\n",
    "AX2 = FIG.add_subplot(1, 2, 2, aspect='equal')\n",
    "AX2.set_xlabel(\"x\")\n",
    "AX2.set_ylabel(\"y\")\n",
    "AX2.set_yticks(YTICKS)\n",
    "AX2.set_title(\"Hubbertville color flood\")\n",
    "AX2.text(2000, 10500, r\"River\", fontsize=10, color=\"black\")\n",
    "AX2.text(1800, 340, r\"Green Swamp\", fontsize=10, color=\"black\")\n",
    "cax = AX2.imshow(HEAD[0, :, :], extent=EXTENT, interpolation='nearest')\n",
    "cbar = FIG.colorbar(cax, orientation='vertical', shrink=0.45)\n"
   ]
  },
  {
   "cell_type": "markdown",
   "metadata": {},
   "source": [
    "Look at the bottom of the MODFLOW output file (ending with a *.list) and note the water balance reported. "
   ]
  },
  {
   "cell_type": "code",
   "execution_count": 24,
   "metadata": {
    "collapsed": false
   },
   "outputs": [
    {
     "name": "stdout",
     "output_type": "stream",
     "text": [
      "[  989.46466064   993.24084473   996.04541016   998.23858643   999.98950195\n",
      "  1001.39190674  1002.50286865  1003.35906982  1003.98449707  1004.39440918\n",
      "  1004.59771729  1004.59771729  1004.39440918  1003.98449707  1003.35906982\n",
      "  1002.50286865  1001.39190674   999.98950195   998.23858643   996.04541016\n",
      "   993.24084473   989.46466064]\n"
     ]
    }
   ],
   "source": [
    "#look at the head in column = 4 from headobj, and then plot it\n",
    "#print HEAD along a column; COL is a variable that allows us to change this easily\n",
    "COL = 4\n",
    "print HEAD[0,:,COL]"
   ]
  },
  {
   "cell_type": "code",
   "execution_count": 25,
   "metadata": {
    "collapsed": false
   },
   "outputs": [
    {
     "name": "stdout",
     "output_type": "stream",
     "text": [
      "[  989.46466064   993.24084473   996.04541016   998.23858643   999.98950195\n",
      "  1001.39190674  1002.50286865  1003.35906982  1003.98449707  1004.39440918\n",
      "  1004.59771729  1004.59771729  1004.39440918  1003.98449707  1003.35906982\n",
      "  1002.50286865  1001.39190674   999.98950195   998.23858643   996.04541016\n",
      "   993.24084473   989.46466064]\n"
     ]
    }
   ],
   "source": [
    "# we see this is what we want, but is flipped because MODFLOW's array does not = Python, so we reverse the order (flip them) and call it \n",
    "Y = np.flipud(HEAD[0,:,COL])\n",
    "print Y"
   ]
  },
  {
   "cell_type": "code",
   "execution_count": 26,
   "metadata": {
    "collapsed": false
   },
   "outputs": [
    {
     "name": "stdout",
     "output_type": "stream",
     "text": [
      "[  250   750  1250  1750  2250  2750  3250  3750  4250  4750  5250  5750\n",
      "  6250  6750  7250  7750  8250  8750  9250  9750 10250 10750]\n"
     ]
    }
   ],
   "source": [
    "#for our cross section create X-coordinates to match with heads\n",
    "XCOORD = np.arange(0, 11000, 500) + 250\n",
    "print XCOORD"
   ]
  },
  {
   "cell_type": "code",
   "execution_count": 27,
   "metadata": {
    "collapsed": false
   },
   "outputs": [
    {
     "data": {
      "text/plain": [
       "[<matplotlib.lines.Line2D at 0x106a98cd0>]"
      ]
     },
     "execution_count": 27,
     "metadata": {},
     "output_type": "execute_result"
    },
    {
     "data": {
      "image/png": "[encoded data removed]",
      "text/plain": [
       "<matplotlib.figure.Figure at 0x10617d350>"
      ]
     },
     "metadata": {},
     "output_type": "display_data"
    }
   ],
   "source": [
    "fig = plt.figure(figsize=(10, 5))\n",
    "ax = fig.add_subplot(1, 1, 1)\n",
    "TITLE =  'cross section of head along Column = ({0})'.format(COL)\n",
    "ax.set_title(TITLE)\n",
    "ax.set_xlabel('y')\n",
    "ax.set_ylabel('head')\n",
    "ax.set_xlim(0, 11000.)\n",
    "ax.set_ylim(980.,1020.)\n",
    "ax.text(10480, 998, r\"River\", fontsize=10, color=\"blue\",rotation='vertical')\n",
    "ax.text(300, 998, r\"Green Swamp\", fontsize=10, color=\"green\",rotation='vertical')\n",
    "ax.text(5300,1009., r\"Groundwater Divide\", fontsize=10, color=\"black\",rotation='vertical')\n",
    "ax.plot(XCOORD, Y)"
   ]
  },
  {
   "cell_type": "markdown",
   "metadata": {},
   "source": [
    "##Now Change Starting Heads to 2000 m\n"
   ]
  },
  {
   "cell_type": "code",
   "execution_count": 28,
   "metadata": {
    "collapsed": true
   },
   "outputs": [],
   "source": [
    "#in order to keep the problem unconfined we'll have to raise the top above what was set in P4.3 (=1030 m)\n",
    "ZTOP = 2030."
   ]
  },
  {
   "cell_type": "code",
   "execution_count": 29,
   "metadata": {
    "collapsed": false
   },
   "outputs": [
    {
     "name": "stdout",
     "output_type": "stream",
     "text": [
      "[[[ 2000.  2000.  2000.  2000.  2000.  2000.  2000.  2000.  2000.]\n",
      "  [ 2000.  2000.  2000.  2000.  2000.  2000.  2000.  2000.  2000.]\n",
      "  [ 2000.  2000.  2000.  2000.  2000.  2000.  2000.  2000.  2000.]\n",
      "  [ 2000.  2000.  2000.  2000.  2000.  2000.  2000.  2000.  2000.]\n",
      "  [ 2000.  2000.  2000.  2000.  2000.  2000.  2000.  2000.  2000.]\n",
      "  [ 2000.  2000.  2000.  2000.  2000.  2000.  2000.  2000.  2000.]\n",
      "  [ 2000.  2000.  2000.  2000.  2000.  2000.  2000.  2000.  2000.]\n",
      "  [ 2000.  2000.  2000.  2000.  2000.  2000.  2000.  2000.  2000.]\n",
      "  [ 2000.  2000.  2000.  2000.  2000.  2000.  2000.  2000.  2000.]\n",
      "  [ 2000.  2000.  2000.  2000.  2000.  2000.  2000.  2000.  2000.]\n",
      "  [ 2000.  2000.  2000.  2000.  2000.  2000.  2000.  2000.  2000.]\n",
      "  [ 2000.  2000.  2000.  2000.  2000.  2000.  2000.  2000.  2000.]\n",
      "  [ 2000.  2000.  2000.  2000.  2000.  2000.  2000.  2000.  2000.]\n",
      "  [ 2000.  2000.  2000.  2000.  2000.  2000.  2000.  2000.  2000.]\n",
      "  [ 2000.  2000.  2000.  2000.  2000.  2000.  2000.  2000.  2000.]\n",
      "  [ 2000.  2000.  2000.  2000.  2000.  2000.  2000.  2000.  2000.]\n",
      "  [ 2000.  2000.  2000.  2000.  2000.  2000.  2000.  2000.  2000.]\n",
      "  [ 2000.  2000.  2000.  2000.  2000.  2000.  2000.  2000.  2000.]\n",
      "  [ 2000.  2000.  2000.  2000.  2000.  2000.  2000.  2000.  2000.]\n",
      "  [ 2000.  2000.  2000.  2000.  2000.  2000.  2000.  2000.  2000.]\n",
      "  [ 2000.  2000.  2000.  2000.  2000.  2000.  2000.  2000.  2000.]\n",
      "  [ 2000.  2000.  2000.  2000.  2000.  2000.  2000.  2000.  2000.]]]\n"
     ]
    }
   ],
   "source": [
    "STRT = 2000 * np.ones((NLAY, NROW, NCOL), dtype=np.float32)  # P4.5a starting head=2000 m throughout model domain\n",
    "print STRT"
   ]
  },
  {
   "cell_type": "code",
   "execution_count": 30,
   "metadata": {
    "collapsed": false
   },
   "outputs": [
    {
     "name": "stdout",
     "output_type": "stream",
     "text": [
      "****Warning -- two packages of the same type:  <class 'flopy.modflow.mfbas.ModflowBas'> <class 'flopy.modflow.mfbas.ModflowBas'>\n",
      "replacing existing Package...\n"
     ]
    }
   ],
   "source": [
    "#we have to update the MODFLOW's BAS Package with the new IBOUND array \n",
    "BAS_PACKAGE = flopy.modflow.ModflowBas(MF, ibound=IBOUND, strt=STRT)"
   ]
  },
  {
   "cell_type": "code",
   "execution_count": 31,
   "metadata": {
    "collapsed": true
   },
   "outputs": [],
   "source": [
    "#in order to keep the problem unconfined we'll have to raise the top above what was set in P4.3 (=1030 m)\n",
    "TOP = 2030.\n",
    "\n",
    "#in order to keep the same transmissivity we need to raise the base so the resulting saturated thickness is the same\n",
    "BOT = 1980."
   ]
  },
  {
   "cell_type": "code",
   "execution_count": 32,
   "metadata": {
    "collapsed": false
   },
   "outputs": [
    {
     "name": "stdout",
     "output_type": "stream",
     "text": [
      "****Warning -- two packages of the same type:  <class 'flopy.modflow.mfdis.ModflowDis'> <class 'flopy.modflow.mfdis.ModflowDis'>\n",
      "replacing existing Package...\n"
     ]
    }
   ],
   "source": [
    "DIS_PACKAGE = flopy.modflow.ModflowDis(MF, NLAY, NROW, NCOL, delr=DELR, delc=DELC,\n",
    "                               top=TOP, botm=BOT, laycbd=0)\n",
    "# print DIS_PACKAGE  #uncomment this on far left to see information about the flopy object"
   ]
  },
  {
   "cell_type": "code",
   "execution_count": 33,
   "metadata": {
    "collapsed": false
   },
   "outputs": [
    {
     "name": "stdout",
     "output_type": "stream",
     "text": [
      "Deleted:  P4-5.bas\n",
      "Deleted:  P4-5.cbc\n",
      "Deleted:  P4-5.ddn\n",
      "Deleted:  P4-5.dis\n",
      "Deleted:  P4-5.hds\n",
      "Deleted:  P4-5.list\n",
      "Deleted:  P4-5.nam\n",
      "Deleted:  P4-5.nwt\n",
      "Deleted:  P4-5.oc\n",
      "Deleted:  P4-5.rch\n",
      "Deleted:  P4-5.upw\n",
      "Deleted:  P4-5.wel\n"
     ]
    }
   ],
   "source": [
    "#delete these files to prevent us from reading old results\n",
    "modelfiles = os.listdir(modelpath)\n",
    "for filename in modelfiles:\n",
    "    f = os.path.join(modelpath, filename)\n",
    "    if modelname in f:\n",
    "        try:\n",
    "            os.remove(f)\n",
    "            print 'Deleted: ', filename\n",
    "        except:\n",
    "            print 'Unable to delete: ', filename"
   ]
  },
  {
   "cell_type": "code",
   "execution_count": 34,
   "metadata": {
    "collapsed": false
   },
   "outputs": [
    {
     "name": "stdout",
     "output_type": "stream",
     "text": [
      "New MODFLOW input files =  ['P4-5.bas', 'P4-5.cbc', 'P4-5.ddn', 'P4-5.dis', 'P4-5.hds', 'P4-5.list', 'P4-5.nam', 'P4-5.nwt', 'P4-5.oc', 'P4-5.rch', 'P4-5.upw', 'P4-5.wel']\n",
      "You can check the newly created files in /Users/rjhunt1/GitHub/Chapter_4_problems-1/P4-5_Hubbertville\n"
     ]
    }
   ],
   "source": [
    "#Now write the model input files\n",
    "MF.write_input()\n",
    "print \"New MODFLOW input files = \", modelfiles\n",
    "print \"You can check the newly created files in\", modelpath\n"
   ]
  },
  {
   "cell_type": "code",
   "execution_count": 35,
   "metadata": {
    "collapsed": false
   },
   "outputs": [
    {
     "name": "stdout",
     "output_type": "stream",
     "text": [
      "FloPy is using the following executable to run the model: /Users/rjhunt1/GitHub/Chapter_4_problems-1/mfnwt\n",
      "\n",
      "                                  MODFLOW-NWT-SWR1 \n",
      "    U.S. GEOLOGICAL SURVEY MODULAR FINITE-DIFFERENCE GROUNDWATER-FLOW MODEL\n",
      "                             WITH NEWTON FORMULATION\n",
      "                             Version 1.0.9 07/01/2014                        \n",
      "                    BASED ON MODFLOW-2005 Version 1.11.0 08/08/2013                       \n",
      "\n",
      "                    SWR1 Version 1.03.0 08/30/2013                       \n",
      "\n",
      " Using NAME file: P4-5.nam \n",
      " Run start date and time (yyyy/mm/dd hh:mm:ss): 2015/04/29 16:17:25\n",
      "\n",
      " Solving:  Stress period:     1    Time step:     1    Groundwater-Flow Eqn.\n",
      " Run end date and time (yyyy/mm/dd hh:mm:ss): 2015/04/29 16:17:25\n",
      " Elapsed run time:  0.005 Seconds\n",
      "\n",
      "  Normal termination of simulation\n"
     ]
    }
   ],
   "source": [
    "#rerun MODFLOW-NWT\n",
    "silent = False  #Print model output to screen?\n",
    "pause = False   #Require user to hit enter? Doesn't mean much in Ipython notebook\n",
    "report = True   #Store the output from the model in buff\n",
    "success, buff = MF.run_model(silent=silent, pause=pause, report=report)"
   ]
  },
  {
   "cell_type": "code",
   "execution_count": 36,
   "metadata": {
    "collapsed": false
   },
   "outputs": [
    {
     "name": "stdout",
     "output_type": "stream",
     "text": [
      "Headfile (P4-5.hds) contains the following list of times:  [1.0]\n",
      "Head statistics\n",
      "  min:  1989.46\n",
      "  max:  2004.6\n",
      "  std:  4.77233\n"
     ]
    }
   ],
   "source": [
    "#As before, let's look at the results and compare to P4-3 Part a.\n",
    "#imports for plotting and reading the MODFLOW binary output file\n",
    "import matplotlib.pyplot as plt\n",
    "import flopy.utils.binaryfile as bf\n",
    "\n",
    "#Create the headfile object and grab the results for last time.\n",
    "headfile = os.path.join(modelpath, modelname + '.hds')\n",
    "headfileobj = bf.HeadFile(headfile)\n",
    "\n",
    "#Get a list of times that are contained in the model\n",
    "times = headfileobj.get_times()\n",
    "print 'Headfile (' + modelname + '.hds' + ') contains the following list of times: ', times\n",
    "\n",
    "#Get a numpy array of heads for totim = 1.0\n",
    "#The get_data method will extract head data from the binary file.\n",
    "HEAD = headfileobj.get_data(totim=1.0)\n",
    "\n",
    "#Print statistics on the head\n",
    "print 'Head statistics'\n",
    "print '  min: ', HEAD.min()\n",
    "print '  max: ', HEAD.max()\n",
    "print '  std: ', HEAD.std()"
   ]
  },
  {
   "cell_type": "code",
   "execution_count": 37,
   "metadata": {
    "collapsed": false
   },
   "outputs": [
    {
     "name": "stdout",
     "output_type": "stream",
     "text": [
      "Contour Levels:  [ 1989.   1989.5  1990.   1990.5  1991.   1991.5  1992.   1992.5  1993.\n",
      "  1993.5  1994.   1994.5  1995.   1995.5  1996.   1996.5  1997.   1997.5\n",
      "  1998.   1998.5  1999.   1999.5  2000.   2000.5  2001.   2001.5  2002.\n",
      "  2002.5  2003.   2003.5  2004.   2004.5]\n",
      "Extent of domain:  (250.0, 4250.0, 250.0, 10750.0)\n"
     ]
    },
    {
     "data": {
      "image/png": "[encoded data removed]",
      "text/plain": [
       "<matplotlib.figure.Figure at 0x106a98c50>"
      ]
     },
     "metadata": {},
     "output_type": "display_data"
    }
   ],
   "source": [
    "#-999.99 is the Inactive node flag so we'll use our previous contour settings\n",
    "#Create a contour plot of heads\n",
    "FIG = plt.figure(figsize=(15,13))\n",
    "\n",
    "#setup contour levels and plot extent\n",
    "LEVELS = np.arange(1989., 2005., 0.5)\n",
    "EXTENT = (DELR/2., LX - DELR/2., DELC/2., LY - DELC/2.)\n",
    "print 'Contour Levels: ', LEVELS\n",
    "print 'Extent of domain: ', EXTENT\n",
    "\n",
    "#Make a contour plot on the first axis\n",
    "AX1 = FIG.add_subplot(1, 2, 1, aspect='equal')\n",
    "AX1.set_xlabel(\"x\")\n",
    "AX1.set_ylabel(\"y\")\n",
    "YTICKS = np.arange(0, 11000, 500)\n",
    "AX1.set_yticks(YTICKS)\n",
    "AX1.set_title(\"Hubbertville contour map\")\n",
    "AX1.text(2000, 10500, r\"River\", fontsize=10, color=\"blue\")\n",
    "AX1.text(1800, 340, r\"Green Swamp\", fontsize=10, color=\"green\")\n",
    "AX1.contour(np.flipud(HEAD[0, :, :]), levels=LEVELS, extent=EXTENT)\n",
    "\n",
    "#Make a color flood on the second axis\n",
    "AX2 = FIG.add_subplot(1, 2, 2, aspect='equal')\n",
    "AX2.set_xlabel(\"x\")\n",
    "AX2.set_ylabel(\"y\")\n",
    "AX2.set_yticks(YTICKS)\n",
    "AX2.set_title(\"Hubbertville color flood\")\n",
    "AX2.text(2000, 10500, r\"River\", fontsize=10, color=\"black\")\n",
    "AX2.text(1800, 340, r\"Green Swamp\", fontsize=10, color=\"black\")\n",
    "cax = AX2.imshow(HEAD[0, :, :], extent=EXTENT, interpolation='nearest', vmin=1989)\n",
    "cbar = FIG.colorbar(cax, orientation='vertical', shrink=0.45)"
   ]
  },
  {
   "cell_type": "code",
   "execution_count": 38,
   "metadata": {
    "collapsed": false
   },
   "outputs": [
    {
     "name": "stdout",
     "output_type": "stream",
     "text": [
      "[ 1989.46459961  1993.24084473  1996.04541016  1998.23852539  1999.98950195\n",
      "  2001.39196777  2002.50292969  2003.35913086  2003.98449707  2004.39440918\n",
      "  2004.59765625  2004.59765625  2004.39440918  2003.98449707  2003.35913086\n",
      "  2002.50292969  2001.39196777  1999.98950195  1998.23852539  1996.04541016\n",
      "  1993.24084473  1989.46459961]\n"
     ]
    }
   ],
   "source": [
    "COL = 4\n",
    "# recall we need to flip because MODFLOW's array does not = Python, so we reverse the order (flip them) and call it \n",
    "Y = np.flipud(HEAD[0,:,COL])\n",
    "print Y"
   ]
  },
  {
   "cell_type": "code",
   "execution_count": 39,
   "metadata": {
    "collapsed": false
   },
   "outputs": [
    {
     "name": "stdout",
     "output_type": "stream",
     "text": [
      "[  250   750  1250  1750  2250  2750  3250  3750  4250  4750  5250  5750\n",
      "  6250  6750  7250  7750  8250  8750  9250  9750 10250 10750]\n"
     ]
    }
   ],
   "source": [
    "#for our cross section create X-coordinates to match with heads\n",
    "XCOORD = np.arange(0, 11000, 500) + 250\n",
    "print XCOORD"
   ]
  },
  {
   "cell_type": "code",
   "execution_count": 40,
   "metadata": {
    "collapsed": false
   },
   "outputs": [
    {
     "data": {
      "text/plain": [
       "[<matplotlib.lines.Line2D at 0x1079c7190>]"
      ]
     },
     "execution_count": 40,
     "metadata": {},
     "output_type": "execute_result"
    },
    {
     "data": {
      "image/png": "[encoded data removed]",
      "text/plain": [
       "<matplotlib.figure.Figure at 0x106175250>"
      ]
     },
     "metadata": {},
     "output_type": "display_data"
    }
   ],
   "source": [
    "fig = plt.figure(figsize=(10, 5))\n",
    "ax = fig.add_subplot(1, 1, 1)\n",
    "TITLE =  'cross section of head along Column = ({0})'.format(COL)\n",
    "ax.set_title(TITLE)\n",
    "ax.set_xlabel('y')\n",
    "ax.set_ylabel('head')\n",
    "ax.set_xlim(0, 11000.)\n",
    "ax.set_ylim(1980.,2020.)\n",
    "ax.text(10480, 1998, r\"River\", fontsize=10, color=\"blue\",rotation='vertical')\n",
    "ax.text(300, 1998, r\"Green Swamp\", fontsize=10, color=\"green\",rotation='vertical')\n",
    "ax.text(5400,2006., r\"Groundwater Divide\", fontsize=10, color=\"black\",rotation='vertical')\n",
    "ax.plot(XCOORD, Y)"
   ]
  },
  {
   "cell_type": "markdown",
   "metadata": {},
   "source": [
    "How do the two versions of starting head compare?  What does this conceptualization need to keep this problem from being a relative result?"
   ]
  },
  {
   "cell_type": "markdown",
   "metadata": {},
   "source": [
    "##Part b. \n",
    "\n",
    "Take one of the models you designed in part (a) and replace one constant flux node on either the river or swamp boundary with a specified head node equal to 1000 m. Run the model to steady state. Compare the results with those in\n",
    "part (a) and with P4.3a. Explain the differences.\n"
   ]
  },
  {
   "cell_type": "code",
   "execution_count": 41,
   "metadata": {
    "collapsed": false
   },
   "outputs": [
    {
     "name": "stdout",
     "output_type": "stream",
     "text": [
      "[[[-1  1  1  1  1  1  1  1  1]\n",
      "  [ 1  1  1  1  1  1  1  1  1]\n",
      "  [ 1  1  1  1  1  1  1  1  1]\n",
      "  [ 1  1  1  1  1  1  1  1  1]\n",
      "  [ 1  1  1  1  1  1  1  1  1]\n",
      "  [ 1  1  1  1  1  1  1  1  1]\n",
      "  [ 1  1  1  1  1  1  1  1  1]\n",
      "  [ 1  1  1  1  1  1  1  1  1]\n",
      "  [ 1  1  1  1  1  1  1  1  1]\n",
      "  [ 1  1  1  1  1  1  1  1  1]\n",
      "  [ 1  1  1  1  1  1  1  1  1]\n",
      "  [ 1  1  1  1  1  1  1  1  1]\n",
      "  [ 1  1  1  1  1  1  1  1  1]\n",
      "  [ 1  1  1  1  1  1  1  1  1]\n",
      "  [ 1  1  1  1  1  1  1  1  1]\n",
      "  [ 1  1  1  1  1  1  1  1  1]\n",
      "  [ 1  1  1  1  1  1  1  1  1]\n",
      "  [ 1  1  1  1  1  1  1  1  1]\n",
      "  [ 1  1  1  1  1  1  1  1  1]\n",
      "  [ 1  1  1  1  1  1  1  1  1]\n",
      "  [ 1  1  1  1  1  1  1  1  1]\n",
      "  [ 1  1  1  1  1  1  1  1  1]]]\n"
     ]
    }
   ],
   "source": [
    "# let's use the first model of Part a so that the starting head of 1000 m is not below the bottom of the aquifer \n",
    "TOP = 1030.\n",
    "BOT = 980.\n",
    "\n",
    "#we'll set the cell in the first row and first column to a specified head (changing it's IBOUND value to -1)\n",
    "IBOUND[:, 0, 0] = -1 \n",
    "print IBOUND"
   ]
  },
  {
   "cell_type": "code",
   "execution_count": 50,
   "metadata": {
    "collapsed": false
   },
   "outputs": [
    {
     "name": "stdout",
     "output_type": "stream",
     "text": [
      "[[[ 1000.  1000.  1000.  1000.  1000.  1000.  1000.  1000.  1000.]\n",
      "  [ 1000.  1000.  1000.  1000.  1000.  1000.  1000.  1000.  1000.]\n",
      "  [ 1000.  1000.  1000.  1000.  1000.  1000.  1000.  1000.  1000.]\n",
      "  [ 1000.  1000.  1000.  1000.  1000.  1000.  1000.  1000.  1000.]\n",
      "  [ 1000.  1000.  1000.  1000.  1000.  1000.  1000.  1000.  1000.]\n",
      "  [ 1000.  1000.  1000.  1000.  1000.  1000.  1000.  1000.  1000.]\n",
      "  [ 1000.  1000.  1000.  1000.  1000.  1000.  1000.  1000.  1000.]\n",
      "  [ 1000.  1000.  1000.  1000.  1000.  1000.  1000.  1000.  1000.]\n",
      "  [ 1000.  1000.  1000.  1000.  1000.  1000.  1000.  1000.  1000.]\n",
      "  [ 1000.  1000.  1000.  1000.  1000.  1000.  1000.  1000.  1000.]\n",
      "  [ 1000.  1000.  1000.  1000.  1000.  1000.  1000.  1000.  1000.]\n",
      "  [ 1000.  1000.  1000.  1000.  1000.  1000.  1000.  1000.  1000.]\n",
      "  [ 1000.  1000.  1000.  1000.  1000.  1000.  1000.  1000.  1000.]\n",
      "  [ 1000.  1000.  1000.  1000.  1000.  1000.  1000.  1000.  1000.]\n",
      "  [ 1000.  1000.  1000.  1000.  1000.  1000.  1000.  1000.  1000.]\n",
      "  [ 1000.  1000.  1000.  1000.  1000.  1000.  1000.  1000.  1000.]\n",
      "  [ 1000.  1000.  1000.  1000.  1000.  1000.  1000.  1000.  1000.]\n",
      "  [ 1000.  1000.  1000.  1000.  1000.  1000.  1000.  1000.  1000.]\n",
      "  [ 1000.  1000.  1000.  1000.  1000.  1000.  1000.  1000.  1000.]\n",
      "  [ 1000.  1000.  1000.  1000.  1000.  1000.  1000.  1000.  1000.]\n",
      "  [ 1000.  1000.  1000.  1000.  1000.  1000.  1000.  1000.  1000.]\n",
      "  [ 1000.  1000.  1000.  1000.  1000.  1000.  1000.  1000.  1000.]]]\n"
     ]
    }
   ],
   "source": [
    "#change the starting head to equal 1000 m\n",
    "STRT = 1000 * np.ones((NLAY, NROW, NCOL), dtype=np.float32)\n",
    "print STRT"
   ]
  },
  {
   "cell_type": "code",
   "execution_count": 43,
   "metadata": {
    "collapsed": false
   },
   "outputs": [
    {
     "name": "stdout",
     "output_type": "stream",
     "text": [
      "****Warning -- two packages of the same type:  <class 'flopy.modflow.mfbas.ModflowBas'> <class 'flopy.modflow.mfbas.ModflowBas'>\n",
      "replacing existing Package...\n"
     ]
    }
   ],
   "source": [
    "#we have to update MODFLOW's BAS Package with the new IBOUND and STRT heads \n",
    "BAS_PACKAGE = flopy.modflow.ModflowBas(MF, ibound=IBOUND, strt=STRT)"
   ]
  },
  {
   "cell_type": "code",
   "execution_count": 44,
   "metadata": {
    "collapsed": false
   },
   "outputs": [
    {
     "name": "stdout",
     "output_type": "stream",
     "text": [
      "aquifer top = 1030.0\n",
      "aquifer bottom = 980.0\n",
      "****Warning -- two packages of the same type:  <class 'flopy.modflow.mfdis.ModflowDis'> <class 'flopy.modflow.mfdis.ModflowDis'>\n",
      "replacing existing Package...\n"
     ]
    }
   ],
   "source": [
    "print 'aquifer top =', TOP\n",
    "print 'aquifer bottom =', BOT\n",
    "#we have to update MODFLOW's DIS Package for the new tops and bottoms \n",
    "DIS_PACKAGE = flopy.modflow.ModflowDis(MF, NLAY, NROW, NCOL, delr=DELR, delc=DELC,\n",
    "                               top=TOP, botm=BOT, laycbd=0)"
   ]
  },
  {
   "cell_type": "code",
   "execution_count": 45,
   "metadata": {
    "collapsed": false
   },
   "outputs": [
    {
     "name": "stdout",
     "output_type": "stream",
     "text": [
      "Deleted:  P4-5.bas\n",
      "Deleted:  P4-5.cbc\n",
      "Deleted:  P4-5.ddn\n",
      "Deleted:  P4-5.dis\n",
      "Deleted:  P4-5.hds\n",
      "Deleted:  P4-5.list\n",
      "Deleted:  P4-5.nam\n",
      "Deleted:  P4-5.nwt\n",
      "Deleted:  P4-5.oc\n",
      "Deleted:  P4-5.rch\n",
      "Deleted:  P4-5.upw\n",
      "Deleted:  P4-5.wel\n"
     ]
    }
   ],
   "source": [
    "#delete old files to prevent us from reading old results\n",
    "modelfiles = os.listdir(modelpath)\n",
    "for filename in modelfiles:\n",
    "    f = os.path.join(modelpath, filename)\n",
    "    if modelname in f:\n",
    "        try:\n",
    "            os.remove(f)\n",
    "            print 'Deleted: ', filename\n",
    "        except:\n",
    "            print 'Unable to delete: ', filename"
   ]
  },
  {
   "cell_type": "code",
   "execution_count": 46,
   "metadata": {
    "collapsed": false
   },
   "outputs": [
    {
     "name": "stdout",
     "output_type": "stream",
     "text": [
      "New MODFLOW input files =  ['P4-5.bas', 'P4-5.cbc', 'P4-5.ddn', 'P4-5.dis', 'P4-5.hds', 'P4-5.list', 'P4-5.nam', 'P4-5.nwt', 'P4-5.oc', 'P4-5.rch', 'P4-5.upw', 'P4-5.wel']\n",
      "You can check the newly created files in /Users/rjhunt1/GitHub/Chapter_4_problems-1/P4-5_Hubbertville\n"
     ]
    }
   ],
   "source": [
    "#Now write the model input files\n",
    "MF.write_input()\n",
    "print \"New MODFLOW input files = \", modelfiles\n",
    "print \"You can check the newly created files in\", modelpath\n"
   ]
  },
  {
   "cell_type": "code",
   "execution_count": 47,
   "metadata": {
    "collapsed": false
   },
   "outputs": [
    {
     "name": "stdout",
     "output_type": "stream",
     "text": [
      "FloPy is using the following executable to run the model: /Users/rjhunt1/GitHub/Chapter_4_problems-1/mfnwt\n",
      "\n",
      "                                  MODFLOW-NWT-SWR1 \n",
      "    U.S. GEOLOGICAL SURVEY MODULAR FINITE-DIFFERENCE GROUNDWATER-FLOW MODEL\n",
      "                             WITH NEWTON FORMULATION\n",
      "                             Version 1.0.9 07/01/2014                        \n",
      "                    BASED ON MODFLOW-2005 Version 1.11.0 08/08/2013                       \n",
      "\n",
      "                    SWR1 Version 1.03.0 08/30/2013                       \n",
      "\n",
      " Using NAME file: P4-5.nam \n",
      " Run start date and time (yyyy/mm/dd hh:mm:ss): 2015/04/29 16:17:27\n",
      "\n",
      " Solving:  Stress period:     1    Time step:     1    Groundwater-Flow Eqn.\n",
      " Run end date and time (yyyy/mm/dd hh:mm:ss): 2015/04/29 16:17:27\n",
      " Elapsed run time:  0.006 Seconds\n",
      "\n",
      "  Normal termination of simulation\n"
     ]
    }
   ],
   "source": [
    "#rerun MODFLOW-2005\n",
    "silent = False  #Print model output to screen?\n",
    "pause = False   #Require user to hit enter? Doesn't mean much in Ipython notebook\n",
    "report = True   #Store the output from the model in buff\n",
    "success, buff = MF.run_model(silent=silent, pause=pause, report=report)"
   ]
  },
  {
   "cell_type": "code",
   "execution_count": 48,
   "metadata": {
    "collapsed": false
   },
   "outputs": [
    {
     "name": "stdout",
     "output_type": "stream",
     "text": [
      "Headfile (P4-5.hds) contains the following list of times:  [1.0]\n",
      "Head statistics\n",
      "  min:  1000.0\n",
      "  max:  1010.57\n",
      "  std:  3.39633\n"
     ]
    }
   ],
   "source": [
    "#As before, let's look at the results and compare to P4-3 Part a.\n",
    "#imports for plotting and reading the MODFLOW binary output file\n",
    "import matplotlib.pyplot as plt\n",
    "import flopy.utils.binaryfile as bf\n",
    "\n",
    "#Create the headfile object and grab the results for last time.\n",
    "headfile = os.path.join(modelpath, modelname + '.hds')\n",
    "headfileobj = bf.HeadFile(headfile)\n",
    "\n",
    "#Get a list of times that are contained in the model\n",
    "times = headfileobj.get_times()\n",
    "print 'Headfile (' + modelname + '.hds' + ') contains the following list of times: ', times\n",
    "\n",
    "#Get a numpy array of heads for totim = 1.0\n",
    "#The get_data method will extract head data from the binary file.\n",
    "HEAD = headfileobj.get_data(totim=1.0)\n",
    "\n",
    "#Print statistics on the head\n",
    "print 'Head statistics'\n",
    "print '  min: ', HEAD.min()\n",
    "print '  max: ', HEAD.max()\n",
    "print '  std: ', HEAD.std()"
   ]
  },
  {
   "cell_type": "code",
   "execution_count": 49,
   "metadata": {
    "collapsed": false
   },
   "outputs": [
    {
     "data": {
      "text/plain": [
       "[<matplotlib.lines.Line2D at 0x106387f50>]"
      ]
     },
     "execution_count": 49,
     "metadata": {},
     "output_type": "execute_result"
    },
    {
     "data": {
      "image/png": "[encoded data removed]",
      "text/plain": [
       "<matplotlib.figure.Figure at 0x107b2c650>"
      ]
     },
     "metadata": {},
     "output_type": "display_data"
    },
    {
     "data": {
      "image/png": "[encoded data removed]",
      "text/plain": [
       "<matplotlib.figure.Figure at 0x1063b0ad0>"
      ]
     },
     "metadata": {},
     "output_type": "display_data"
    }
   ],
   "source": [
    "#Create a contour plot of heads\n",
    "FIG = plt.figure(figsize=(15,13))\n",
    "\n",
    "#setup contour levels and plot extent\n",
    "LEVELS = np.arange(1000., 1011., 0.5)\n",
    "EXTENT = (DELR/2., LX - DELR/2., DELC/2., LY - DELC/2.)\n",
    "\n",
    "#Make a contour plot on the first axis\n",
    "AX1 = FIG.add_subplot(1, 2, 1, aspect='equal')\n",
    "AX1.set_xlabel(\"x\")\n",
    "AX1.set_ylabel(\"y\")\n",
    "YTICKS = np.arange(0, 11000, 500)\n",
    "AX1.set_yticks(YTICKS)\n",
    "AX1.set_title(\"Hubbertville contour map\")\n",
    "AX1.text(2000, 10500, r\"River\", fontsize=10, color=\"blue\")\n",
    "AX1.text(1800, 340, r\"Green Swamp\", fontsize=10, color=\"green\")\n",
    "AX1.contour(np.flipud(HEAD[0, :, :]), levels=LEVELS, extent=EXTENT)\n",
    "\n",
    "#Make a color flood on the second axis\n",
    "AX2 = FIG.add_subplot(1, 2, 2, aspect='equal')\n",
    "AX2.set_xlabel(\"x\")\n",
    "AX2.set_ylabel(\"y\")\n",
    "AX2.set_yticks(YTICKS)\n",
    "AX2.set_title(\"Hubbertville color flood\")\n",
    "AX2.text(2000, 10500, r\"River\", fontsize=10, color=\"black\")\n",
    "AX2.text(1800, 340, r\"Green Swamp\", fontsize=10, color=\"black\")\n",
    "cax = AX2.imshow(HEAD[0, :, :], extent=EXTENT, interpolation='nearest', vmin=998.2)\n",
    "cbar = FIG.colorbar(cax, orientation='vertical', shrink=0.45)\n",
    "\n",
    "#as before let's plot a north-south cross section\n",
    "COL = 4\n",
    "# recall we need to flip because MODFLOW's array does not = Python, so we reverse the order (flip them) and call it \n",
    "Y = np.flipud(HEAD[0,:,COL])\n",
    "#for our cross section create X-coordinates to match with heads\n",
    "XCOORD = np.arange(0, 11000, 500) + 250\n",
    "fig = plt.figure(figsize=(10, 5))\n",
    "ax = fig.add_subplot(1, 1, 1)\n",
    "TITLE =  'cross section of head along Column = ({0})'.format(COL)\n",
    "ax.set_title(TITLE)\n",
    "ax.set_xlabel('y')\n",
    "ax.set_ylabel('head')\n",
    "ax.set_xlim(0, 11000.)\n",
    "ax.set_ylim(980.,1020.)\n",
    "ax.text(10480, 998, r\"River\", fontsize=10, color=\"blue\",rotation='vertical')\n",
    "ax.text(300, 998, r\"Green Swamp\", fontsize=10, color=\"green\",rotation='vertical')\n",
    "ax.text(5400,1007., r\"Groundwater Divide\", fontsize=10, color=\"black\",rotation='vertical')\n",
    "ax.plot(XCOORD, Y)"
   ]
  },
  {
   "cell_type": "markdown",
   "metadata": {},
   "source": [
    "1.) Compare the results with those in P4.5 Part (a) and with P4.3a. What can we conclude?\n",
    "\n",
    "2) Rerun the second part of problem P4.5b with the original base elevation (= 980 m) in step In [31].  Leave the top elevation at the new value (=2030 m). Why are the gradients different? "
   ]
  },
  {
   "cell_type": "code",
   "execution_count": null,
   "metadata": {
    "collapsed": true
   },
   "outputs": [],
   "source": []
  }
 ],
 "metadata": {
  "kernelspec": {
   "display_name": "Python 2",
   "language": "python",
   "name": "python2"
  },
  "language_info": {
   "codemirror_mode": {
    "name": "ipython",
    "version": 2
   },
   "file_extension": ".py",
   "mimetype": "text/x-python",
   "name": "python",
   "nbconvert_exporter": "python",
   "pygments_lexer": "ipython2",
   "version": "2.7.9"
  }
 },
 "nbformat": 4,
 "nbformat_minor": 0
}
